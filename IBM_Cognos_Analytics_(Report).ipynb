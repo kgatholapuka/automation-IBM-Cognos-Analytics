{
 "cells": [
  {
   "cell_type": "code",
   "execution_count": 1,
   "metadata": {},
   "outputs": [],
   "source": [
    "import time\n",
    "import pytest\n",
    "import selenium\n",
    "from selenium import webdriver\n",
    "from selenium import webdriver\n",
    "from selenium.webdriver.common.by import By\n",
    "from selenium.webdriver.support.wait import WebDriverWait\n",
    "from selenium.webdriver.support import expected_conditions as EC\n",
    "from selenium.webdriver.common.keys import Keys \n",
    "from selenium.webdriver import ActionChains"
   ]
  },
  {
   "cell_type": "markdown",
   "metadata": {},
   "source": [
    "## IBM Cognos Analytics (Report)"
   ]
  },
  {
   "cell_type": "markdown",
   "metadata": {},
   "source": [
    "The following code opens a new window in Microsoft Edge.\n",
    " Then visit the link and enter your username and  password.\n",
    " Next, navigate to and download the “Reception Management Relationship – Mois” report."
   ]
  },
  {
   "cell_type": "code",
   "execution_count": 23,
   "metadata": {},
   "outputs": [],
   "source": [
    "driver = webdriver.Edge()\n",
    "driver.get('http://sci2020-af.bollore-logistics.com:81/bi/?perspective=home')\n",
    "driver.implicitly_wait(60)"
   ]
  },
  {
   "cell_type": "code",
   "execution_count": 24,
   "metadata": {},
   "outputs": [],
   "source": [
    "driver.find_element(\"xpath\",\"//input[@id='CAMUsername']\").send_keys('SCI_AF')"
   ]
  },
  {
   "cell_type": "code",
   "execution_count": 25,
   "metadata": {},
   "outputs": [],
   "source": [
    "driver.find_element(\"xpath\",\"//input[@id='CAMPassword']\").send_keys('SCI_AF')"
   ]
  },
  {
   "cell_type": "code",
   "execution_count": 26,
   "metadata": {},
   "outputs": [],
   "source": [
    "driver.find_element(\"xpath\",\"//button[@class='signInBtn']\").click()"
   ]
  },
  {
   "cell_type": "code",
   "execution_count": 27,
   "metadata": {},
   "outputs": [],
   "source": [
    "driver.implicitly_wait(25)\n",
    "time.sleep(15)\n",
    "#driver.find_element(\"xpath\",'//*[@id=\"com.ibm.bi.contentApps.teamFoldersSlideout\"]/div/div').click()\n",
    "driver.find_element(\"xpath\",'//*[@id=\"com.ibm.bi.contentApps.teamFoldersSlideout\"]/div').click()"
   ]
  },
  {
   "cell_type": "code",
   "execution_count": 28,
   "metadata": {},
   "outputs": [],
   "source": [
    "driver.implicitly_wait(5)\n",
    "driver.find_element(\"xpath\", \"//div[@title='SCI Platform']\").click()"
   ]
  },
  {
   "cell_type": "code",
   "execution_count": 29,
   "metadata": {},
   "outputs": [],
   "source": [
    "driver.implicitly_wait(15)\n",
    "driver.find_element(\"xpath\", \"//div[@title='SCI Reports AF']\").click()"
   ]
  },
  {
   "cell_type": "code",
   "execution_count": 30,
   "metadata": {},
   "outputs": [],
   "source": [
    "driver.implicitly_wait(10)\n",
    "driver.find_element(\"xpath\", \"//div[@title= 'MA']\").click()"
   ]
  },
  {
   "cell_type": "code",
   "execution_count": 31,
   "metadata": {},
   "outputs": [],
   "source": [
    "driver.implicitly_wait(10)\n",
    "driver.find_element(\"xpath\", \"//div[@title= 'MA1']\").click()"
   ]
  },
  {
   "cell_type": "code",
   "execution_count": 32,
   "metadata": {},
   "outputs": [],
   "source": [
    "driver.implicitly_wait(10)\n",
    "driver.find_element(\"xpath\", \"//div[@title= 'LMA New']\").click()\n"
   ]
  },
  {
   "cell_type": "code",
   "execution_count": 33,
   "metadata": {},
   "outputs": [],
   "source": [
    "#sort By close the window\n",
    "driver.find_element(\"xpath\",'//button[@title = \"Sort\"]').click() \n"
   ]
  },
  {
   "cell_type": "code",
   "execution_count": 34,
   "metadata": {},
   "outputs": [],
   "source": [
    "driver.find_element(\"xpath\",'//*[@id=\"com.ibm.bi.contentApps.teamFoldersSlideout.bi/content_apps/LegacyCATeamFoldersView.global\"]/div[6]/div/div[4]/div/div[2]/span/ul[2]/li[2]/div[1]').click()"
   ]
  },
  {
   "cell_type": "code",
   "execution_count": 35,
   "metadata": {},
   "outputs": [],
   "source": [
    "#sort By close the window\n",
    "driver.find_element(\"xpath\",'//button[@title = \"Sort\"]').click() "
   ]
  },
  {
   "cell_type": "code",
   "execution_count": 36,
   "metadata": {},
   "outputs": [],
   "source": [
    "driver.implicitly_wait(20)\n",
    "driver.find_element(\"xpath\", '//tr[@data-name= \"Réception Management Rapport - Mois\"]').click()"
   ]
  }
 ],
 "metadata": {
  "kernelspec": {
   "display_name": "Python 3 (ipykernel)",
   "language": "python",
   "name": "python3"
  },
  "language_info": {
   "codemirror_mode": {
    "name": "ipython",
    "version": 3
   },
   "file_extension": ".py",
   "mimetype": "text/x-python",
   "name": "python",
   "nbconvert_exporter": "python",
   "pygments_lexer": "ipython3",
   "version": "3.12.0"
  }
 },
 "nbformat": 4,
 "nbformat_minor": 2
}
