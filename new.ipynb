{
 "cells": [
  {
   "cell_type": "code",
   "execution_count": 1,
   "metadata": {},
   "outputs": [],
   "source": [
    "import selenium \n",
    "import time\n",
    "from selenium import webdriver\n",
    "from selenium.webdriver.common.by import By\n",
    "from selenium import webdriver\n",
    "from selenium.webdriver import DesiredCapabilities\n",
    "from selenium.webdriver.chrome.service import Service\n",
    "from selenium.webdriver.chrome.options import Options\n",
    "from selenium.webdriver.support.ui import WebDriverWait\n",
    "from selenium.webdriver.common.by import By\n",
    "from selenium.webdriver.support import expected_conditions as EC"
   ]
  },
  {
   "cell_type": "markdown",
   "metadata": {},
   "source": [
    "## IBM Cognos Analytics ##"
   ]
  },
  {
   "cell_type": "code",
   "execution_count": 47,
   "metadata": {},
   "outputs": [],
   "source": [
    "driver = webdriver.Edge()\n",
    "driver.get('http://sci2020-af.bollore-logistics.com:81/bi/?perspective=home')\n",
    "time.sleep(3)\n",
    "driver.maximize_window()\n",
    "driver.find_element(\"xpath\",\"//input[@id='CAMUsername']\").send_keys('SCI_AF')\n",
    "driver.find_element(\"xpath\",\"//input[@id='CAMPassword']\").send_keys('SCI_AF')\n",
    "driver.find_element(\"xpath\",\"//button[@class='signInBtn']\").click()\n",
    "time.sleep(15)\n",
    "driver.find_element(\"xpath\",\"//button[@id='com.ibm.bi.contentApps.teamFoldersSlideout']\").click()\n",
    "time.sleep(5)\n",
    "driver.find_element(\"xpath\", \"//tr[@data-name = 'SCI Platform']\").click()\n",
    "time.sleep(5)\n",
    "driver.find_element(\"xpath\", \"//div[@title='SCI Reports AF']\").click()\n",
    "time.sleep(5)\n",
    "driver.find_element(\"xpath\", \"//div[@title= 'MA']\").click()\n",
    "time.sleep(5)\n",
    "driver.find_element(\"xpath\", \"//div[@title= 'MA1']\").click()\n",
    "time.sleep(5)\n",
    "driver.find_element(\"xpath\", \"//div[@title= 'LMA New']\").click()\n",
    "#driver.find_element(\"xpath\", '//tr[@data-name =\"Réception Management Rapport - Mois\"]').click()\n",
    "#driver.close()"
   ]
  },
  {
   "cell_type": "code",
   "execution_count": 52,
   "metadata": {},
   "outputs": [
    {
     "ename": "NoSuchWindowException",
     "evalue": "Message: no such window: target window already closed\nfrom unknown error: web view not found\n  (Session info: MicrosoftEdge=120.0.2210.77)\nStacktrace:\n\tGetHandleVerifier [0x00007FF7125B0382+58194]\n\tMicrosoft::Applications::Events::ILogConfiguration::operator* [0x00007FF71253ECE2+216546]\n\t(No symbol) [0x00007FF712359E1B]\n\t(No symbol) [0x00007FF71233124D]\n\t(No symbol) [0x00007FF7123D216D]\n\t(No symbol) [0x00007FF7123E83D8]\n\t(No symbol) [0x00007FF7123CBD43]\n\t(No symbol) [0x00007FF71239C162]\n\t(No symbol) [0x00007FF71239B5BD]\n\t(No symbol) [0x00007FF71239C994]\n\tMicrosoft::Applications::Events::EventProperty::to_string [0x00007FF71276726A+1051354]\n\t(No symbol) [0x00007FF71241F596]\n\tMicrosoft::Applications::Events::EventProperty::clear [0x00007FF7124B6205+34245]\n\tMicrosoft::Applications::Events::EventProperty::clear [0x00007FF7124AE6AD+2669]\n\tMicrosoft::Applications::Events::EventProperty::to_string [0x00007FF712765F63+1046483]\n\tMicrosoft::Applications::Events::ILogConfiguration::operator* [0x00007FF7125489C8+256712]\n\tMicrosoft::Applications::Events::ILogConfiguration::operator* [0x00007FF712544154+238164]\n\tMicrosoft::Applications::Events::ILogConfiguration::operator* [0x00007FF712544282+238466]\n\tMicrosoft::Applications::Events::ILogConfiguration::operator* [0x00007FF712539021+192801]\n\tBaseThreadInitThunk [0x00007FFD79507344+20]\n\tRtlUserThreadStart [0x00007FFD796426B1+33]\n",
     "output_type": "error",
     "traceback": [
      "\u001b[1;31m---------------------------------------------------------------------------\u001b[0m",
      "\u001b[1;31mNoSuchWindowException\u001b[0m                     Traceback (most recent call last)",
      "Cell \u001b[1;32mIn[52], line 1\u001b[0m\n\u001b[1;32m----> 1\u001b[0m \u001b[43mdriver\u001b[49m\u001b[38;5;241;43m.\u001b[39;49m\u001b[43mfind_element\u001b[49m\u001b[43m(\u001b[49m\u001b[38;5;124;43m\"\u001b[39;49m\u001b[38;5;124;43mxpath\u001b[39;49m\u001b[38;5;124;43m\"\u001b[39;49m\u001b[43m,\u001b[49m\u001b[43m \u001b[49m\u001b[38;5;124;43m'\u001b[39;49m\u001b[38;5;124;43m//tr[@data-name =\u001b[39;49m\u001b[38;5;124;43m\"\u001b[39;49m\u001b[38;5;124;43mRéception Management Rapport - Mois\u001b[39;49m\u001b[38;5;124;43m\"\u001b[39;49m\u001b[38;5;124;43m]\u001b[39;49m\u001b[38;5;124;43m'\u001b[39;49m\u001b[43m)\u001b[49m\u001b[38;5;241m.\u001b[39mclick()\n",
      "File \u001b[1;32mc:\\Users\\ukt430\\AppData\\Local\\Programs\\Python\\Python312\\Lib\\site-packages\\selenium\\webdriver\\remote\\webdriver.py:742\u001b[0m, in \u001b[0;36mWebDriver.find_element\u001b[1;34m(self, by, value)\u001b[0m\n\u001b[0;32m    739\u001b[0m     by \u001b[38;5;241m=\u001b[39m By\u001b[38;5;241m.\u001b[39mCSS_SELECTOR\n\u001b[0;32m    740\u001b[0m     value \u001b[38;5;241m=\u001b[39m \u001b[38;5;124mf\u001b[39m\u001b[38;5;124m'\u001b[39m\u001b[38;5;124m[name=\u001b[39m\u001b[38;5;124m\"\u001b[39m\u001b[38;5;132;01m{\u001b[39;00mvalue\u001b[38;5;132;01m}\u001b[39;00m\u001b[38;5;124m\"\u001b[39m\u001b[38;5;124m]\u001b[39m\u001b[38;5;124m'\u001b[39m\n\u001b[1;32m--> 742\u001b[0m \u001b[38;5;28;01mreturn\u001b[39;00m \u001b[38;5;28;43mself\u001b[39;49m\u001b[38;5;241;43m.\u001b[39;49m\u001b[43mexecute\u001b[49m\u001b[43m(\u001b[49m\u001b[43mCommand\u001b[49m\u001b[38;5;241;43m.\u001b[39;49m\u001b[43mFIND_ELEMENT\u001b[49m\u001b[43m,\u001b[49m\u001b[43m \u001b[49m\u001b[43m{\u001b[49m\u001b[38;5;124;43m\"\u001b[39;49m\u001b[38;5;124;43musing\u001b[39;49m\u001b[38;5;124;43m\"\u001b[39;49m\u001b[43m:\u001b[49m\u001b[43m \u001b[49m\u001b[43mby\u001b[49m\u001b[43m,\u001b[49m\u001b[43m \u001b[49m\u001b[38;5;124;43m\"\u001b[39;49m\u001b[38;5;124;43mvalue\u001b[39;49m\u001b[38;5;124;43m\"\u001b[39;49m\u001b[43m:\u001b[49m\u001b[43m \u001b[49m\u001b[43mvalue\u001b[49m\u001b[43m}\u001b[49m\u001b[43m)\u001b[49m[\u001b[38;5;124m\"\u001b[39m\u001b[38;5;124mvalue\u001b[39m\u001b[38;5;124m\"\u001b[39m]\n",
      "File \u001b[1;32mc:\\Users\\ukt430\\AppData\\Local\\Programs\\Python\\Python312\\Lib\\site-packages\\selenium\\webdriver\\remote\\webdriver.py:348\u001b[0m, in \u001b[0;36mWebDriver.execute\u001b[1;34m(self, driver_command, params)\u001b[0m\n\u001b[0;32m    346\u001b[0m response \u001b[38;5;241m=\u001b[39m \u001b[38;5;28mself\u001b[39m\u001b[38;5;241m.\u001b[39mcommand_executor\u001b[38;5;241m.\u001b[39mexecute(driver_command, params)\n\u001b[0;32m    347\u001b[0m \u001b[38;5;28;01mif\u001b[39;00m response:\n\u001b[1;32m--> 348\u001b[0m     \u001b[38;5;28;43mself\u001b[39;49m\u001b[38;5;241;43m.\u001b[39;49m\u001b[43merror_handler\u001b[49m\u001b[38;5;241;43m.\u001b[39;49m\u001b[43mcheck_response\u001b[49m\u001b[43m(\u001b[49m\u001b[43mresponse\u001b[49m\u001b[43m)\u001b[49m\n\u001b[0;32m    349\u001b[0m     response[\u001b[38;5;124m\"\u001b[39m\u001b[38;5;124mvalue\u001b[39m\u001b[38;5;124m\"\u001b[39m] \u001b[38;5;241m=\u001b[39m \u001b[38;5;28mself\u001b[39m\u001b[38;5;241m.\u001b[39m_unwrap_value(response\u001b[38;5;241m.\u001b[39mget(\u001b[38;5;124m\"\u001b[39m\u001b[38;5;124mvalue\u001b[39m\u001b[38;5;124m\"\u001b[39m, \u001b[38;5;28;01mNone\u001b[39;00m))\n\u001b[0;32m    350\u001b[0m     \u001b[38;5;28;01mreturn\u001b[39;00m response\n",
      "File \u001b[1;32mc:\\Users\\ukt430\\AppData\\Local\\Programs\\Python\\Python312\\Lib\\site-packages\\selenium\\webdriver\\remote\\errorhandler.py:229\u001b[0m, in \u001b[0;36mErrorHandler.check_response\u001b[1;34m(self, response)\u001b[0m\n\u001b[0;32m    227\u001b[0m         alert_text \u001b[38;5;241m=\u001b[39m value[\u001b[38;5;124m\"\u001b[39m\u001b[38;5;124malert\u001b[39m\u001b[38;5;124m\"\u001b[39m]\u001b[38;5;241m.\u001b[39mget(\u001b[38;5;124m\"\u001b[39m\u001b[38;5;124mtext\u001b[39m\u001b[38;5;124m\"\u001b[39m)\n\u001b[0;32m    228\u001b[0m     \u001b[38;5;28;01mraise\u001b[39;00m exception_class(message, screen, stacktrace, alert_text)  \u001b[38;5;66;03m# type: ignore[call-arg]  # mypy is not smart enough here\u001b[39;00m\n\u001b[1;32m--> 229\u001b[0m \u001b[38;5;28;01mraise\u001b[39;00m exception_class(message, screen, stacktrace)\n",
      "\u001b[1;31mNoSuchWindowException\u001b[0m: Message: no such window: target window already closed\nfrom unknown error: web view not found\n  (Session info: MicrosoftEdge=120.0.2210.77)\nStacktrace:\n\tGetHandleVerifier [0x00007FF7125B0382+58194]\n\tMicrosoft::Applications::Events::ILogConfiguration::operator* [0x00007FF71253ECE2+216546]\n\t(No symbol) [0x00007FF712359E1B]\n\t(No symbol) [0x00007FF71233124D]\n\t(No symbol) [0x00007FF7123D216D]\n\t(No symbol) [0x00007FF7123E83D8]\n\t(No symbol) [0x00007FF7123CBD43]\n\t(No symbol) [0x00007FF71239C162]\n\t(No symbol) [0x00007FF71239B5BD]\n\t(No symbol) [0x00007FF71239C994]\n\tMicrosoft::Applications::Events::EventProperty::to_string [0x00007FF71276726A+1051354]\n\t(No symbol) [0x00007FF71241F596]\n\tMicrosoft::Applications::Events::EventProperty::clear [0x00007FF7124B6205+34245]\n\tMicrosoft::Applications::Events::EventProperty::clear [0x00007FF7124AE6AD+2669]\n\tMicrosoft::Applications::Events::EventProperty::to_string [0x00007FF712765F63+1046483]\n\tMicrosoft::Applications::Events::ILogConfiguration::operator* [0x00007FF7125489C8+256712]\n\tMicrosoft::Applications::Events::ILogConfiguration::operator* [0x00007FF712544154+238164]\n\tMicrosoft::Applications::Events::ILogConfiguration::operator* [0x00007FF712544282+238466]\n\tMicrosoft::Applications::Events::ILogConfiguration::operator* [0x00007FF712539021+192801]\n\tBaseThreadInitThunk [0x00007FFD79507344+20]\n\tRtlUserThreadStart [0x00007FFD796426B1+33]\n"
     ]
    }
   ],
   "source": [
    "driver.find_element(\"xpath\", '//tr[@data-name =\"Réception Management Rapport - Mois\"]').click()"
   ]
  },
  {
   "cell_type": "code",
   "execution_count": null,
   "metadata": {},
   "outputs": [],
   "source": [
    "#Team content = //button[@id='com.ibm.bi.contentApps.teamFoldersSlideout']\n",
    "# SCI Platform = //div[@id = 'com.ibm.bi.contentApps.teamFoldersSlideout.bi/content_apps/LegacyCATeamFoldersView.global']\n",
    "# SCI REPORT AF = //div[@title= 'SCI Reports AF']\n",
    "# MA            = //div[@title= 'MA']\n",
    "# MA1           = //div[@title= 'MA1']\n",
    "# LMA_NEW       = //div[@title= 'LMA New']\n",
    "#RECEPTION MANAGEMENT RAPPORT- MOIS = //div[@title= 'Réception Management Rapport - Mois']\n",
    "#driver.find_element(\"xpath\",\"//input[@id='CAMUsername']\").send_keys('SCI_AF')\n",
    "#driver.find_element(\"xpath\",\"//input[@id='CAMPassword']\").send_keys('SCI_AF')\n",
    "#driver.find_element(\"xpath\",\"//button[@class='signInBtn']\").click()\n",
    "#time.sleep(3)\n",
    "#driver.find_element(\"xpath\",\"//button[@id='com.ibm.bi.contentApps.teamFoldersSlideout']\").click()"
   ]
  }
 ],
 "metadata": {
  "kernelspec": {
   "display_name": "Python 3",
   "language": "python",
   "name": "python3"
  },
  "language_info": {
   "codemirror_mode": {
    "name": "ipython",
    "version": 3
   },
   "file_extension": ".py",
   "mimetype": "text/x-python",
   "name": "python",
   "nbconvert_exporter": "python",
   "pygments_lexer": "ipython3",
   "version": "3.12.0"
  }
 },
 "nbformat": 4,
 "nbformat_minor": 2
}
