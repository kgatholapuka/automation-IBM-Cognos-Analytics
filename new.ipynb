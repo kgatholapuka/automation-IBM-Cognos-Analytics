{
 "cells": [
  {
   "cell_type": "code",
   "execution_count": 1,
   "metadata": {},
   "outputs": [],
   "source": [
    "import selenium \n",
    "import time\n",
    "from selenium import webdriver\n",
    "from selenium.webdriver.common.by import By\n",
    "from selenium import webdriver\n",
    "from selenium.webdriver import DesiredCapabilities\n",
    "from selenium.webdriver.chrome.service import Service\n",
    "from selenium.webdriver.chrome.options import Options\n",
    "from selenium.webdriver.support.ui import WebDriverWait\n",
    "from selenium.webdriver.common.by import By\n",
    "from selenium.webdriver.support import expected_conditions as EC"
   ]
  },
  {
   "cell_type": "markdown",
   "metadata": {},
   "source": [
    "## IBM Cognos Analytics ##"
   ]
  },
  {
   "cell_type": "code",
   "execution_count": 62,
   "metadata": {},
   "outputs": [
    {
     "ename": "NoSuchElementException",
     "evalue": "Message: no such element: Unable to locate element: {\"method\":\"xpath\",\"selector\":\"//tr[@data-name ='Réception Management Rapport - Mois']\"}\n  (Session info: MicrosoftEdge=120.0.2210.61); For documentation on this error, please visit: https://www.selenium.dev/documentation/webdriver/troubleshooting/errors#no-such-element-exception\nStacktrace:\n\tGetHandleVerifier [0x00007FF708083F02+58082]\n\tMicrosoft::Applications::Events::ILogConfiguration::operator* [0x00007FF7080154B2+224082]\n\t(No symbol) [0x00007FF707E39D9B]\n\t(No symbol) [0x00007FF707E89A9B]\n\t(No symbol) [0x00007FF707E89BAC]\n\t(No symbol) [0x00007FF707ECB8C7]\n\t(No symbol) [0x00007FF707EABF5F]\n\t(No symbol) [0x00007FF707E7D231]\n\t(No symbol) [0x00007FF707EC8A03]\n\t(No symbol) [0x00007FF707EABB83]\n\t(No symbol) [0x00007FF707E7BFB4]\n\t(No symbol) [0x00007FF707E7B405]\n\t(No symbol) [0x00007FF707E7C7E4]\n\tMicrosoft::Applications::Events::EventProperty::to_string [0x00007FF70822D87A+1003402]\n\t(No symbol) [0x00007FF707F006A9]\n\tMicrosoft::Applications::Events::EventProperty::~EventProperty [0x00007FF707F8A8F5+35045]\n\tMicrosoft::Applications::Events::EventProperty::~EventProperty [0x00007FF707F82A8D+2685]\n\tMicrosoft::Applications::Events::EventProperty::to_string [0x00007FF70822C573+998531]\n\tMicrosoft::Applications::Events::ILogConfiguration::operator* [0x00007FF70801FE68+267528]\n\tMicrosoft::Applications::Events::ILogConfiguration::operator* [0x00007FF70801AD24+246724]\n\tMicrosoft::Applications::Events::ILogConfiguration::operator* [0x00007FF70801AE52+247026]\n\tMicrosoft::Applications::Events::ILogConfiguration::operator* [0x00007FF70800F6A1+200001]\n\tBaseThreadInitThunk [0x00007FFD79507344+20]\n\tRtlUserThreadStart [0x00007FFD796426B1+33]\n",
     "output_type": "error",
     "traceback": [
      "\u001b[1;31m---------------------------------------------------------------------------\u001b[0m",
      "\u001b[1;31mNoSuchElementException\u001b[0m                    Traceback (most recent call last)",
      "Cell \u001b[1;32mIn[62], line 21\u001b[0m\n\u001b[0;32m     19\u001b[0m driver\u001b[38;5;241m.\u001b[39mfind_element(\u001b[38;5;124m\"\u001b[39m\u001b[38;5;124mxpath\u001b[39m\u001b[38;5;124m\"\u001b[39m, \u001b[38;5;124m\"\u001b[39m\u001b[38;5;124m//div[@title= \u001b[39m\u001b[38;5;124m'\u001b[39m\u001b[38;5;124mLMA New\u001b[39m\u001b[38;5;124m'\u001b[39m\u001b[38;5;124m]\u001b[39m\u001b[38;5;124m\"\u001b[39m)\u001b[38;5;241m.\u001b[39mclick()\n\u001b[0;32m     20\u001b[0m time\u001b[38;5;241m.\u001b[39msleep(\u001b[38;5;241m1\u001b[39m)\n\u001b[1;32m---> 21\u001b[0m \u001b[43mdriver\u001b[49m\u001b[38;5;241;43m.\u001b[39;49m\u001b[43mfind_element\u001b[49m\u001b[43m(\u001b[49m\u001b[38;5;124;43m\"\u001b[39;49m\u001b[38;5;124;43mxpath\u001b[39;49m\u001b[38;5;124;43m\"\u001b[39;49m\u001b[43m,\u001b[49m\u001b[43m \u001b[49m\u001b[38;5;124;43m\"\u001b[39;49m\u001b[38;5;124;43m//tr[@data-name =\u001b[39;49m\u001b[38;5;124;43m'\u001b[39;49m\u001b[38;5;124;43mRéception Management Rapport - Mois\u001b[39;49m\u001b[38;5;124;43m'\u001b[39;49m\u001b[38;5;124;43m]\u001b[39;49m\u001b[38;5;124;43m\"\u001b[39;49m\u001b[43m)\u001b[49m\u001b[38;5;241m.\u001b[39mclick()\n",
      "File \u001b[1;32mc:\\Users\\ukt430\\AppData\\Local\\Programs\\Python\\Python312\\Lib\\site-packages\\selenium\\webdriver\\remote\\webdriver.py:742\u001b[0m, in \u001b[0;36mWebDriver.find_element\u001b[1;34m(self, by, value)\u001b[0m\n\u001b[0;32m    739\u001b[0m     by \u001b[38;5;241m=\u001b[39m By\u001b[38;5;241m.\u001b[39mCSS_SELECTOR\n\u001b[0;32m    740\u001b[0m     value \u001b[38;5;241m=\u001b[39m \u001b[38;5;124mf\u001b[39m\u001b[38;5;124m'\u001b[39m\u001b[38;5;124m[name=\u001b[39m\u001b[38;5;124m\"\u001b[39m\u001b[38;5;132;01m{\u001b[39;00mvalue\u001b[38;5;132;01m}\u001b[39;00m\u001b[38;5;124m\"\u001b[39m\u001b[38;5;124m]\u001b[39m\u001b[38;5;124m'\u001b[39m\n\u001b[1;32m--> 742\u001b[0m \u001b[38;5;28;01mreturn\u001b[39;00m \u001b[38;5;28;43mself\u001b[39;49m\u001b[38;5;241;43m.\u001b[39;49m\u001b[43mexecute\u001b[49m\u001b[43m(\u001b[49m\u001b[43mCommand\u001b[49m\u001b[38;5;241;43m.\u001b[39;49m\u001b[43mFIND_ELEMENT\u001b[49m\u001b[43m,\u001b[49m\u001b[43m \u001b[49m\u001b[43m{\u001b[49m\u001b[38;5;124;43m\"\u001b[39;49m\u001b[38;5;124;43musing\u001b[39;49m\u001b[38;5;124;43m\"\u001b[39;49m\u001b[43m:\u001b[49m\u001b[43m \u001b[49m\u001b[43mby\u001b[49m\u001b[43m,\u001b[49m\u001b[43m \u001b[49m\u001b[38;5;124;43m\"\u001b[39;49m\u001b[38;5;124;43mvalue\u001b[39;49m\u001b[38;5;124;43m\"\u001b[39;49m\u001b[43m:\u001b[49m\u001b[43m \u001b[49m\u001b[43mvalue\u001b[49m\u001b[43m}\u001b[49m\u001b[43m)\u001b[49m[\u001b[38;5;124m\"\u001b[39m\u001b[38;5;124mvalue\u001b[39m\u001b[38;5;124m\"\u001b[39m]\n",
      "File \u001b[1;32mc:\\Users\\ukt430\\AppData\\Local\\Programs\\Python\\Python312\\Lib\\site-packages\\selenium\\webdriver\\remote\\webdriver.py:348\u001b[0m, in \u001b[0;36mWebDriver.execute\u001b[1;34m(self, driver_command, params)\u001b[0m\n\u001b[0;32m    346\u001b[0m response \u001b[38;5;241m=\u001b[39m \u001b[38;5;28mself\u001b[39m\u001b[38;5;241m.\u001b[39mcommand_executor\u001b[38;5;241m.\u001b[39mexecute(driver_command, params)\n\u001b[0;32m    347\u001b[0m \u001b[38;5;28;01mif\u001b[39;00m response:\n\u001b[1;32m--> 348\u001b[0m     \u001b[38;5;28;43mself\u001b[39;49m\u001b[38;5;241;43m.\u001b[39;49m\u001b[43merror_handler\u001b[49m\u001b[38;5;241;43m.\u001b[39;49m\u001b[43mcheck_response\u001b[49m\u001b[43m(\u001b[49m\u001b[43mresponse\u001b[49m\u001b[43m)\u001b[49m\n\u001b[0;32m    349\u001b[0m     response[\u001b[38;5;124m\"\u001b[39m\u001b[38;5;124mvalue\u001b[39m\u001b[38;5;124m\"\u001b[39m] \u001b[38;5;241m=\u001b[39m \u001b[38;5;28mself\u001b[39m\u001b[38;5;241m.\u001b[39m_unwrap_value(response\u001b[38;5;241m.\u001b[39mget(\u001b[38;5;124m\"\u001b[39m\u001b[38;5;124mvalue\u001b[39m\u001b[38;5;124m\"\u001b[39m, \u001b[38;5;28;01mNone\u001b[39;00m))\n\u001b[0;32m    350\u001b[0m     \u001b[38;5;28;01mreturn\u001b[39;00m response\n",
      "File \u001b[1;32mc:\\Users\\ukt430\\AppData\\Local\\Programs\\Python\\Python312\\Lib\\site-packages\\selenium\\webdriver\\remote\\errorhandler.py:229\u001b[0m, in \u001b[0;36mErrorHandler.check_response\u001b[1;34m(self, response)\u001b[0m\n\u001b[0;32m    227\u001b[0m         alert_text \u001b[38;5;241m=\u001b[39m value[\u001b[38;5;124m\"\u001b[39m\u001b[38;5;124malert\u001b[39m\u001b[38;5;124m\"\u001b[39m]\u001b[38;5;241m.\u001b[39mget(\u001b[38;5;124m\"\u001b[39m\u001b[38;5;124mtext\u001b[39m\u001b[38;5;124m\"\u001b[39m)\n\u001b[0;32m    228\u001b[0m     \u001b[38;5;28;01mraise\u001b[39;00m exception_class(message, screen, stacktrace, alert_text)  \u001b[38;5;66;03m# type: ignore[call-arg]  # mypy is not smart enough here\u001b[39;00m\n\u001b[1;32m--> 229\u001b[0m \u001b[38;5;28;01mraise\u001b[39;00m exception_class(message, screen, stacktrace)\n",
      "\u001b[1;31mNoSuchElementException\u001b[0m: Message: no such element: Unable to locate element: {\"method\":\"xpath\",\"selector\":\"//tr[@data-name ='Réception Management Rapport - Mois']\"}\n  (Session info: MicrosoftEdge=120.0.2210.61); For documentation on this error, please visit: https://www.selenium.dev/documentation/webdriver/troubleshooting/errors#no-such-element-exception\nStacktrace:\n\tGetHandleVerifier [0x00007FF708083F02+58082]\n\tMicrosoft::Applications::Events::ILogConfiguration::operator* [0x00007FF7080154B2+224082]\n\t(No symbol) [0x00007FF707E39D9B]\n\t(No symbol) [0x00007FF707E89A9B]\n\t(No symbol) [0x00007FF707E89BAC]\n\t(No symbol) [0x00007FF707ECB8C7]\n\t(No symbol) [0x00007FF707EABF5F]\n\t(No symbol) [0x00007FF707E7D231]\n\t(No symbol) [0x00007FF707EC8A03]\n\t(No symbol) [0x00007FF707EABB83]\n\t(No symbol) [0x00007FF707E7BFB4]\n\t(No symbol) [0x00007FF707E7B405]\n\t(No symbol) [0x00007FF707E7C7E4]\n\tMicrosoft::Applications::Events::EventProperty::to_string [0x00007FF70822D87A+1003402]\n\t(No symbol) [0x00007FF707F006A9]\n\tMicrosoft::Applications::Events::EventProperty::~EventProperty [0x00007FF707F8A8F5+35045]\n\tMicrosoft::Applications::Events::EventProperty::~EventProperty [0x00007FF707F82A8D+2685]\n\tMicrosoft::Applications::Events::EventProperty::to_string [0x00007FF70822C573+998531]\n\tMicrosoft::Applications::Events::ILogConfiguration::operator* [0x00007FF70801FE68+267528]\n\tMicrosoft::Applications::Events::ILogConfiguration::operator* [0x00007FF70801AD24+246724]\n\tMicrosoft::Applications::Events::ILogConfiguration::operator* [0x00007FF70801AE52+247026]\n\tMicrosoft::Applications::Events::ILogConfiguration::operator* [0x00007FF70800F6A1+200001]\n\tBaseThreadInitThunk [0x00007FFD79507344+20]\n\tRtlUserThreadStart [0x00007FFD796426B1+33]\n"
     ]
    }
   ],
   "source": [
    "driver = webdriver.Edge()\n",
    "driver.get('http://sci2020-af.bollore-logistics.com:81/bi/?perspective=home')\n",
    "time.sleep(3)\n",
    "driver.maximize_window()\n",
    "driver.find_element(\"xpath\",\"//input[@id='CAMUsername']\").send_keys('SCI_AF')\n",
    "driver.find_element(\"xpath\",\"//input[@id='CAMPassword']\").send_keys('SCI_AF')\n",
    "driver.find_element(\"xpath\",\"//button[@class='signInBtn']\").click()\n",
    "driver.implicitly_wait(10)\n",
    "driver.find_element(\"xpath\",\"//button[@id='com.ibm.bi.contentApps.teamFoldersSlideout']\").click()\n",
    "time.sleep(1)\n",
    "driver.find_element(\"xpath\", \"//tr[@data-name = 'SCI Platform']\").click()\n",
    "time.sleep(1)\n",
    "driver.find_element(\"xpath\", \"//div[@title='SCI Reports AF']\").click()\n",
    "time.sleep(1)\n",
    "driver.find_element(\"xpath\", \"//div[@title= 'MA']\").click()\n",
    "time.sleep(1)\n",
    "driver.find_element(\"xpath\", \"//div[@title= 'MA1']\").click()\n",
    "time.sleep(1)\n",
    "driver.find_element(\"xpath\", \"//div[@title= 'LMA New']\").click()\n",
    "time.sleep(1)\n",
    "driver.find_element(\"xpath\", \"//tr[@data-name ='Réception Management Rapport - Mois']\").click()"
   ]
  },
  {
   "cell_type": "code",
   "execution_count": 63,
   "metadata": {},
   "outputs": [
    {
     "ename": "NoSuchElementException",
     "evalue": "Message: no such element: Unable to locate element: {\"method\":\"xpath\",\"selector\":\"//tr[@data-name ='Réception Management Rapport - Mois']\"}\n  (Session info: MicrosoftEdge=120.0.2210.61); For documentation on this error, please visit: https://www.selenium.dev/documentation/webdriver/troubleshooting/errors#no-such-element-exception\nStacktrace:\n\tGetHandleVerifier [0x00007FF708083F02+58082]\n\tMicrosoft::Applications::Events::ILogConfiguration::operator* [0x00007FF7080154B2+224082]\n\t(No symbol) [0x00007FF707E39D9B]\n\t(No symbol) [0x00007FF707E89A9B]\n\t(No symbol) [0x00007FF707E89BAC]\n\t(No symbol) [0x00007FF707ECB8C7]\n\t(No symbol) [0x00007FF707EABF5F]\n\t(No symbol) [0x00007FF707E7D231]\n\t(No symbol) [0x00007FF707EC8A03]\n\t(No symbol) [0x00007FF707EABB83]\n\t(No symbol) [0x00007FF707E7BFB4]\n\t(No symbol) [0x00007FF707E7B405]\n\t(No symbol) [0x00007FF707E7C7E4]\n\tMicrosoft::Applications::Events::EventProperty::to_string [0x00007FF70822D87A+1003402]\n\t(No symbol) [0x00007FF707F006A9]\n\tMicrosoft::Applications::Events::EventProperty::~EventProperty [0x00007FF707F8A8F5+35045]\n\tMicrosoft::Applications::Events::EventProperty::~EventProperty [0x00007FF707F82A8D+2685]\n\tMicrosoft::Applications::Events::EventProperty::to_string [0x00007FF70822C573+998531]\n\tMicrosoft::Applications::Events::ILogConfiguration::operator* [0x00007FF70801FE68+267528]\n\tMicrosoft::Applications::Events::ILogConfiguration::operator* [0x00007FF70801AD24+246724]\n\tMicrosoft::Applications::Events::ILogConfiguration::operator* [0x00007FF70801AE52+247026]\n\tMicrosoft::Applications::Events::ILogConfiguration::operator* [0x00007FF70800F6A1+200001]\n\tBaseThreadInitThunk [0x00007FFD79507344+20]\n\tRtlUserThreadStart [0x00007FFD796426B1+33]\n",
     "output_type": "error",
     "traceback": [
      "\u001b[1;31m---------------------------------------------------------------------------\u001b[0m",
      "\u001b[1;31mNoSuchElementException\u001b[0m                    Traceback (most recent call last)",
      "Cell \u001b[1;32mIn[63], line 2\u001b[0m\n\u001b[0;32m      1\u001b[0m \u001b[38;5;66;03m#driver.find_element(\"xpath\", \"//tr[@data-name ='Réception Management Rapport - Journalier']\").click()\u001b[39;00m\n\u001b[1;32m----> 2\u001b[0m \u001b[43mdriver\u001b[49m\u001b[38;5;241;43m.\u001b[39;49m\u001b[43mfind_element\u001b[49m\u001b[43m(\u001b[49m\u001b[38;5;124;43m\"\u001b[39;49m\u001b[38;5;124;43mxpath\u001b[39;49m\u001b[38;5;124;43m\"\u001b[39;49m\u001b[43m,\u001b[49m\u001b[43m \u001b[49m\u001b[38;5;124;43m\"\u001b[39;49m\u001b[38;5;124;43m//tr[@data-name =\u001b[39;49m\u001b[38;5;124;43m'\u001b[39;49m\u001b[38;5;124;43mRéception Management Rapport - Mois\u001b[39;49m\u001b[38;5;124;43m'\u001b[39;49m\u001b[38;5;124;43m]\u001b[39;49m\u001b[38;5;124;43m\"\u001b[39;49m\u001b[43m)\u001b[49m\u001b[38;5;241m.\u001b[39mclick()\n",
      "File \u001b[1;32mc:\\Users\\ukt430\\AppData\\Local\\Programs\\Python\\Python312\\Lib\\site-packages\\selenium\\webdriver\\remote\\webdriver.py:742\u001b[0m, in \u001b[0;36mWebDriver.find_element\u001b[1;34m(self, by, value)\u001b[0m\n\u001b[0;32m    739\u001b[0m     by \u001b[38;5;241m=\u001b[39m By\u001b[38;5;241m.\u001b[39mCSS_SELECTOR\n\u001b[0;32m    740\u001b[0m     value \u001b[38;5;241m=\u001b[39m \u001b[38;5;124mf\u001b[39m\u001b[38;5;124m'\u001b[39m\u001b[38;5;124m[name=\u001b[39m\u001b[38;5;124m\"\u001b[39m\u001b[38;5;132;01m{\u001b[39;00mvalue\u001b[38;5;132;01m}\u001b[39;00m\u001b[38;5;124m\"\u001b[39m\u001b[38;5;124m]\u001b[39m\u001b[38;5;124m'\u001b[39m\n\u001b[1;32m--> 742\u001b[0m \u001b[38;5;28;01mreturn\u001b[39;00m \u001b[38;5;28;43mself\u001b[39;49m\u001b[38;5;241;43m.\u001b[39;49m\u001b[43mexecute\u001b[49m\u001b[43m(\u001b[49m\u001b[43mCommand\u001b[49m\u001b[38;5;241;43m.\u001b[39;49m\u001b[43mFIND_ELEMENT\u001b[49m\u001b[43m,\u001b[49m\u001b[43m \u001b[49m\u001b[43m{\u001b[49m\u001b[38;5;124;43m\"\u001b[39;49m\u001b[38;5;124;43musing\u001b[39;49m\u001b[38;5;124;43m\"\u001b[39;49m\u001b[43m:\u001b[49m\u001b[43m \u001b[49m\u001b[43mby\u001b[49m\u001b[43m,\u001b[49m\u001b[43m \u001b[49m\u001b[38;5;124;43m\"\u001b[39;49m\u001b[38;5;124;43mvalue\u001b[39;49m\u001b[38;5;124;43m\"\u001b[39;49m\u001b[43m:\u001b[49m\u001b[43m \u001b[49m\u001b[43mvalue\u001b[49m\u001b[43m}\u001b[49m\u001b[43m)\u001b[49m[\u001b[38;5;124m\"\u001b[39m\u001b[38;5;124mvalue\u001b[39m\u001b[38;5;124m\"\u001b[39m]\n",
      "File \u001b[1;32mc:\\Users\\ukt430\\AppData\\Local\\Programs\\Python\\Python312\\Lib\\site-packages\\selenium\\webdriver\\remote\\webdriver.py:348\u001b[0m, in \u001b[0;36mWebDriver.execute\u001b[1;34m(self, driver_command, params)\u001b[0m\n\u001b[0;32m    346\u001b[0m response \u001b[38;5;241m=\u001b[39m \u001b[38;5;28mself\u001b[39m\u001b[38;5;241m.\u001b[39mcommand_executor\u001b[38;5;241m.\u001b[39mexecute(driver_command, params)\n\u001b[0;32m    347\u001b[0m \u001b[38;5;28;01mif\u001b[39;00m response:\n\u001b[1;32m--> 348\u001b[0m     \u001b[38;5;28;43mself\u001b[39;49m\u001b[38;5;241;43m.\u001b[39;49m\u001b[43merror_handler\u001b[49m\u001b[38;5;241;43m.\u001b[39;49m\u001b[43mcheck_response\u001b[49m\u001b[43m(\u001b[49m\u001b[43mresponse\u001b[49m\u001b[43m)\u001b[49m\n\u001b[0;32m    349\u001b[0m     response[\u001b[38;5;124m\"\u001b[39m\u001b[38;5;124mvalue\u001b[39m\u001b[38;5;124m\"\u001b[39m] \u001b[38;5;241m=\u001b[39m \u001b[38;5;28mself\u001b[39m\u001b[38;5;241m.\u001b[39m_unwrap_value(response\u001b[38;5;241m.\u001b[39mget(\u001b[38;5;124m\"\u001b[39m\u001b[38;5;124mvalue\u001b[39m\u001b[38;5;124m\"\u001b[39m, \u001b[38;5;28;01mNone\u001b[39;00m))\n\u001b[0;32m    350\u001b[0m     \u001b[38;5;28;01mreturn\u001b[39;00m response\n",
      "File \u001b[1;32mc:\\Users\\ukt430\\AppData\\Local\\Programs\\Python\\Python312\\Lib\\site-packages\\selenium\\webdriver\\remote\\errorhandler.py:229\u001b[0m, in \u001b[0;36mErrorHandler.check_response\u001b[1;34m(self, response)\u001b[0m\n\u001b[0;32m    227\u001b[0m         alert_text \u001b[38;5;241m=\u001b[39m value[\u001b[38;5;124m\"\u001b[39m\u001b[38;5;124malert\u001b[39m\u001b[38;5;124m\"\u001b[39m]\u001b[38;5;241m.\u001b[39mget(\u001b[38;5;124m\"\u001b[39m\u001b[38;5;124mtext\u001b[39m\u001b[38;5;124m\"\u001b[39m)\n\u001b[0;32m    228\u001b[0m     \u001b[38;5;28;01mraise\u001b[39;00m exception_class(message, screen, stacktrace, alert_text)  \u001b[38;5;66;03m# type: ignore[call-arg]  # mypy is not smart enough here\u001b[39;00m\n\u001b[1;32m--> 229\u001b[0m \u001b[38;5;28;01mraise\u001b[39;00m exception_class(message, screen, stacktrace)\n",
      "\u001b[1;31mNoSuchElementException\u001b[0m: Message: no such element: Unable to locate element: {\"method\":\"xpath\",\"selector\":\"//tr[@data-name ='Réception Management Rapport - Mois']\"}\n  (Session info: MicrosoftEdge=120.0.2210.61); For documentation on this error, please visit: https://www.selenium.dev/documentation/webdriver/troubleshooting/errors#no-such-element-exception\nStacktrace:\n\tGetHandleVerifier [0x00007FF708083F02+58082]\n\tMicrosoft::Applications::Events::ILogConfiguration::operator* [0x00007FF7080154B2+224082]\n\t(No symbol) [0x00007FF707E39D9B]\n\t(No symbol) [0x00007FF707E89A9B]\n\t(No symbol) [0x00007FF707E89BAC]\n\t(No symbol) [0x00007FF707ECB8C7]\n\t(No symbol) [0x00007FF707EABF5F]\n\t(No symbol) [0x00007FF707E7D231]\n\t(No symbol) [0x00007FF707EC8A03]\n\t(No symbol) [0x00007FF707EABB83]\n\t(No symbol) [0x00007FF707E7BFB4]\n\t(No symbol) [0x00007FF707E7B405]\n\t(No symbol) [0x00007FF707E7C7E4]\n\tMicrosoft::Applications::Events::EventProperty::to_string [0x00007FF70822D87A+1003402]\n\t(No symbol) [0x00007FF707F006A9]\n\tMicrosoft::Applications::Events::EventProperty::~EventProperty [0x00007FF707F8A8F5+35045]\n\tMicrosoft::Applications::Events::EventProperty::~EventProperty [0x00007FF707F82A8D+2685]\n\tMicrosoft::Applications::Events::EventProperty::to_string [0x00007FF70822C573+998531]\n\tMicrosoft::Applications::Events::ILogConfiguration::operator* [0x00007FF70801FE68+267528]\n\tMicrosoft::Applications::Events::ILogConfiguration::operator* [0x00007FF70801AD24+246724]\n\tMicrosoft::Applications::Events::ILogConfiguration::operator* [0x00007FF70801AE52+247026]\n\tMicrosoft::Applications::Events::ILogConfiguration::operator* [0x00007FF70800F6A1+200001]\n\tBaseThreadInitThunk [0x00007FFD79507344+20]\n\tRtlUserThreadStart [0x00007FFD796426B1+33]\n"
     ]
    }
   ],
   "source": [
    "#driver.find_element(\"xpath\", \"//tr[@data-name ='Réception Management Rapport - Journalier']\").click()\n",
    "driver.find_element(\"xpath\", \"//tr[@data-name ='Réception Management Rapport - Mois']\").click()"
   ]
  },
  {
   "cell_type": "markdown",
   "metadata": {},
   "source": []
  },
  {
   "cell_type": "code",
   "execution_count": 6,
   "metadata": {},
   "outputs": [
    {
     "ename": "AttributeError",
     "evalue": "'NoneType' object has no attribute 'send_keys'",
     "output_type": "error",
     "traceback": [
      "\u001b[1;31m---------------------------------------------------------------------------\u001b[0m",
      "\u001b[1;31mAttributeError\u001b[0m                            Traceback (most recent call last)",
      "Cell \u001b[1;32mIn[6], line 3\u001b[0m\n\u001b[0;32m      1\u001b[0m driver \u001b[38;5;241m=\u001b[39m webdriver\u001b[38;5;241m.\u001b[39mEdge()\n\u001b[0;32m      2\u001b[0m driver\u001b[38;5;241m.\u001b[39mget(\u001b[38;5;124m'\u001b[39m\u001b[38;5;124mhttps://square2016-af.bollore-logistics.com:9001/login.jsp\u001b[39m\u001b[38;5;124m'\u001b[39m)\n\u001b[1;32m----> 3\u001b[0m \u001b[43mdriver\u001b[49m\u001b[38;5;241;43m.\u001b[39;49m\u001b[43mfind_element\u001b[49m\u001b[43m(\u001b[49m\u001b[38;5;124;43m\"\u001b[39;49m\u001b[38;5;124;43mxpath\u001b[39;49m\u001b[38;5;124;43m\"\u001b[39;49m\u001b[43m,\u001b[49m\u001b[38;5;124;43m\"\u001b[39;49m\u001b[38;5;124;43m//input[@id=\u001b[39;49m\u001b[38;5;124;43m'\u001b[39;49m\u001b[38;5;124;43mtextfield-1019-inputEl\u001b[39;49m\u001b[38;5;124;43m'\u001b[39;49m\u001b[38;5;124;43m]\u001b[39;49m\u001b[38;5;124;43m\"\u001b[39;49m\u001b[43m)\u001b[49m\u001b[38;5;241;43m.\u001b[39;49m\u001b[43msend_keys\u001b[49m(\u001b[38;5;124m'\u001b[39m\u001b[38;5;124mKPuka\u001b[39m\u001b[38;5;124m'\u001b[39m)\n\u001b[0;32m      4\u001b[0m driver\u001b[38;5;241m.\u001b[39mfind_element(\u001b[38;5;124m\"\u001b[39m\u001b[38;5;124mxpath\u001b[39m\u001b[38;5;124m\"\u001b[39m,\u001b[38;5;124m\"\u001b[39m\u001b[38;5;124m//input[@id=\u001b[39m\u001b[38;5;124m'\u001b[39m\u001b[38;5;124mtextfield-1020-inputEl\u001b[39m\u001b[38;5;124m'\u001b[39m\u001b[38;5;124m]\u001b[39m\u001b[38;5;124m\"\u001b[39m)\u001b[38;5;241m.\u001b[39msend_keys(\u001b[38;5;124m'\u001b[39m\u001b[38;5;124mPuka123\u001b[39m\u001b[38;5;124m'\u001b[39m)\n\u001b[0;32m      5\u001b[0m time\u001b[38;5;241m.\u001b[39msleep(\u001b[38;5;241m2\u001b[39m)\n",
      "\u001b[1;31mAttributeError\u001b[0m: 'NoneType' object has no attribute 'send_keys'"
     ]
    }
   ],
   "source": [
    "driver = webdriver.Edge()\n",
    "driver.get('https://square2016-af.bollore-logistics.com:9001/login.jsp')\n",
    "driver.find_element(\"xpath\",\"//input[@id='textfield-1019-inputEl']\").send_keys('KPuka')\n",
    "driver.find_element(\"xpath\",\"//input[@id='textfield-1020-inputEl']\").send_keys('Puka123')\n",
    "time.sleep(2)\n",
    "driver.find_element(\"xpath\",\"//span[@id='button-1022-btnInnerEl']\").click()\n",
    "\n",
    "\n"
   ]
  },
  {
   "cell_type": "code",
   "execution_count": null,
   "metadata": {},
   "outputs": [],
   "source": [
    "#Team content = //button[@id='com.ibm.bi.contentApps.teamFoldersSlideout']\n",
    "# SCI Platform = //div[@id = 'com.ibm.bi.contentApps.teamFoldersSlideout.bi/content_apps/LegacyCATeamFoldersView.global']\n",
    "# SCI REPORT AF = //div[@title= 'SCI Reports AF']\n",
    "# MA            = //div[@title= 'MA']\n",
    "# MA1           = //div[@title= 'MA1']\n",
    "# LMA_NEW       = //div[@title= 'LMA New']\n",
    "#RECEPTION MANAGEMENT RAPPORT- MOIS = //div[@title= 'Réception Management Rapport - Mois']\n",
    "\n",
    "\n",
    "\n",
    "#driver.find_element(\"xpath\",\"//input[@id='CAMUsername']\").send_keys('SCI_AF')\n",
    "#driver.find_element(\"xpath\",\"//input[@id='CAMPassword']\").send_keys('SCI_AF')\n",
    "#driver.find_element(\"xpath\",\"//button[@class='signInBtn']\").click()\n",
    "#time.sleep(3)\n",
    "#driver.find_element(\"xpath\",\"//button[@id='com.ibm.bi.contentApps.teamFoldersSlideout']\").click()"
   ]
  },
  {
   "cell_type": "code",
   "execution_count": null,
   "metadata": {},
   "outputs": [],
   "source": []
  }
 ],
 "metadata": {
  "kernelspec": {
   "display_name": "Python 3",
   "language": "python",
   "name": "python3"
  },
  "language_info": {
   "codemirror_mode": {
    "name": "ipython",
    "version": 3
   },
   "file_extension": ".py",
   "mimetype": "text/x-python",
   "name": "python",
   "nbconvert_exporter": "python",
   "pygments_lexer": "ipython3",
   "version": "3.12.0"
  }
 },
 "nbformat": 4,
 "nbformat_minor": 2
}
