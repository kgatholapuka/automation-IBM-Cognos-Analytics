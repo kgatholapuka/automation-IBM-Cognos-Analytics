{
 "cells": [
  {
   "cell_type": "markdown",
   "metadata": {},
   "source": [
    "## Importing models"
   ]
  },
  {
   "cell_type": "code",
   "execution_count": 1,
   "metadata": {
    "tags": []
   },
   "outputs": [],
   "source": [
    "import pandas as pd\n",
    "import numpy as np\n",
    "import openpyxl\n",
    "import xlwt\n",
    "from openpyxl import load_workbook"
   ]
  },
  {
   "cell_type": "markdown",
   "metadata": {},
   "source": [
    "Run the bat file"
   ]
  },
  {
   "cell_type": "code",
   "execution_count": 5,
   "metadata": {},
   "outputs": [],
   "source": [
    "import subprocess\n",
    "\n",
    "subprocess.run([r\"C:\\Users\\ukt430\\Documents\\GitHub\\automation-IBM-Cognos-Analytics\\p.bat\"])"
   ]
  },
  {
   "cell_type": "code",
   "execution_count": null,
   "metadata": {},
   "outputs": [],
   "source": []
  },
  {
   "cell_type": "markdown",
   "metadata": {},
   "source": [
    "## Importing data"
   ]
  },
  {
   "cell_type": "code",
   "execution_count": 40,
   "metadata": {},
   "outputs": [],
   "source": [
    "df = pd.read_excel(\"Réception Management Rapport - Mois (33).xlsx\",header=None)"
   ]
  },
  {
   "cell_type": "code",
   "execution_count": 41,
   "metadata": {},
   "outputs": [],
   "source": [
    "dff = pd.read_csv('file_list - Copy - Copy.csv',header=None)"
   ]
  },
  {
   "cell_type": "markdown",
   "metadata": {},
   "source": [
    "## Data processing"
   ]
  },
  {
   "cell_type": "code",
   "execution_count": 42,
   "metadata": {},
   "outputs": [],
   "source": [
    "def data_processing(data,column,name,number,cols):\n",
    "    a = data.rename(columns = {column:name})# renaming the columns\n",
    "    rows = a.drop(range(number),axis = 0,inplace = True)# dropping rows\n",
    "    col = a.drop(cols,axis=1,inplace = True)# dropping columns \n",
    "    df = a \n",
    "\n",
    "    return df\n"
   ]
  },
  {
   "cell_type": "code",
   "execution_count": 43,
   "metadata": {},
   "outputs": [
    {
     "data": {
      "text/html": [
       "<div>\n",
       "<style scoped>\n",
       "    .dataframe tbody tr th:only-of-type {\n",
       "        vertical-align: middle;\n",
       "    }\n",
       "\n",
       "    .dataframe tbody tr th {\n",
       "        vertical-align: top;\n",
       "    }\n",
       "\n",
       "    .dataframe thead th {\n",
       "        text-align: right;\n",
       "    }\n",
       "</style>\n",
       "<table border=\"1\" class=\"dataframe\">\n",
       "  <thead>\n",
       "    <tr style=\"text-align: right;\">\n",
       "      <th></th>\n",
       "      <th>ASN</th>\n",
       "    </tr>\n",
       "  </thead>\n",
       "  <tbody>\n",
       "    <tr>\n",
       "      <th>14</th>\n",
       "      <td>249900294</td>\n",
       "    </tr>\n",
       "    <tr>\n",
       "      <th>15</th>\n",
       "      <td>249900293</td>\n",
       "    </tr>\n",
       "    <tr>\n",
       "      <th>16</th>\n",
       "      <td>24R21858</td>\n",
       "    </tr>\n",
       "    <tr>\n",
       "      <th>17</th>\n",
       "      <td>0240600687</td>\n",
       "    </tr>\n",
       "    <tr>\n",
       "      <th>18</th>\n",
       "      <td>24R198658</td>\n",
       "    </tr>\n",
       "  </tbody>\n",
       "</table>\n",
       "</div>"
      ],
      "text/plain": [
       "           ASN\n",
       "14   249900294\n",
       "15   249900293\n",
       "16    24R21858\n",
       "17  0240600687\n",
       "18   24R198658"
      ]
     },
     "execution_count": 43,
     "metadata": {},
     "output_type": "execute_result"
    }
   ],
   "source": [
    "df = data_processing(df,0,\"ASN\",14,[1,2,3,4,5,6,7,8,9,10])\n",
    "df.head()"
   ]
  },
  {
   "cell_type": "code",
   "execution_count": 44,
   "metadata": {},
   "outputs": [],
   "source": [
    "dff = pd.read_csv('file_list - Copy - Copy.csv',header=None)"
   ]
  },
  {
   "cell_type": "code",
   "execution_count": 45,
   "metadata": {},
   "outputs": [],
   "source": [
    "def processing_data(data,column,name,cols):\n",
    "    a = data[0].str.split('_',expand=True)\n",
    "    b = a.rename(columns = {column:name})# renaming the columns\n",
    "    #rows = b.drop(range(number),axis = 0,inplace = True)# dropping rows\n",
    "    col = b.drop(cols,axis=1,inplace = True)# dropping columns \n",
    "    \n",
    "    return b "
   ]
  },
  {
   "cell_type": "code",
   "execution_count": 46,
   "metadata": {},
   "outputs": [],
   "source": [
    "dff = processing_data(dff,2,\"ASN\",[0,1,3,4,5,6,7,8])"
   ]
  },
  {
   "cell_type": "markdown",
   "metadata": {},
   "source": [
    "## Extracting ASNs\n"
   ]
  },
  {
   "cell_type": "markdown",
   "metadata": {},
   "source": [
    "#### M1"
   ]
  },
  {
   "cell_type": "code",
   "execution_count": 47,
   "metadata": {},
   "outputs": [
    {
     "name": "stdout",
     "output_type": "stream",
     "text": [
      "The ASNs that have not been retriggered :['24R47806', '0240600449', '0240600362', '24R12032', '24R2726', '0240600849', '0240600848', '0240600505', '24R5630', '0240600341', '0240600165', '0240600687', '0240600506', '0240601133']\n"
     ]
    }
   ],
   "source": [
    "def uncommon_values(set1,set2):\n",
    "    df_asn = set1['ASN'].values.tolist()\n",
    "    df_monitor =set2[\"ASN\"].values.tolist()\n",
    "    asn = set(df_asn)\n",
    "    monitor = set(df_monitor)\n",
    "    temp1 = []\n",
    "    for i in asn:\n",
    "        if i not in monitor:\n",
    "            temp1.append(i)\n",
    "    with open(\"file.txt\",\"w\") as output:\n",
    "        output.write(str(temp1))\n",
    "    print(f\"The ASNs that have not been retriggered :\"+ str(temp1))\n",
    "uncommon_values(df,dff)"
   ]
  },
  {
   "cell_type": "markdown",
   "metadata": {},
   "source": [
    "#### M2"
   ]
  },
  {
   "cell_type": "code",
   "execution_count": 48,
   "metadata": {},
   "outputs": [
    {
     "name": "stdout",
     "output_type": "stream",
     "text": [
      "['24R47806', '0240600449', '0240600362', '24R12032', '24R2726', '0240600849', '0240600848', '0240600505', '24R5630', '0240600341', '0240600165', '0240600687', '0240600506', '0240601133']\n"
     ]
    }
   ],
   "source": [
    "def values(set1,set2):\n",
    "    df_asn = df['ASN'].values.tolist()\n",
    "    df_monitor = dff['ASN'].values.tolist()\n",
    "    temp1 =  [x for x in set(df_asn) if x not in set(df_monitor)]\n",
    "    return print(temp1)\n",
    "values(df,dff)"
   ]
  },
  {
   "cell_type": "markdown",
   "metadata": {},
   "source": [
    "#### Convert string to num "
   ]
  },
  {
   "cell_type": "code",
   "execution_count": 28,
   "metadata": {},
   "outputs": [],
   "source": [
    "ASN = load_workbook('asn.xlsx')\n",
    "Monitor = load_workbook('Monitor.xlsx')"
   ]
  },
  {
   "cell_type": "code",
   "execution_count": 29,
   "metadata": {},
   "outputs": [],
   "source": [
    "asn_sheet = ASN['Sheet1']\n",
    "Monitor_sheet = Monitor['Sheet1'] "
   ]
  },
  {
   "cell_type": "code",
   "execution_count": 30,
   "metadata": {},
   "outputs": [],
   "source": [
    "def covnvert_column_to_number(file_path,sheet_name,column_index):\n",
    "    try:\n",
    "        wb = load_workbook(file_path)\n",
    "        sheet = wb[sheet_name]\n",
    "        for row in sheet.iter_rows(min_row=1,min_col=column_index,max_col=column_index):\n",
    "            for cell in row:\n",
    "                try:\n",
    "                    cell.value = int(cell.value)\n",
    "                except (TypeError,ValueError):\n",
    "                    pass\n",
    "                wb.save(file_path)\n",
    "                print('successful')\n",
    "    except  Exception as e:\n",
    "        print('error')                "
   ]
  },
  {
   "cell_type": "code",
   "execution_count": 33,
   "metadata": {},
   "outputs": [
    {
     "name": "stdout",
     "output_type": "stream",
     "text": [
      "successful\n",
      "successful\n",
      "successful\n",
      "successful\n",
      "successful\n",
      "successful\n",
      "successful\n",
      "successful\n",
      "successful\n",
      "successful\n",
      "successful\n",
      "successful\n",
      "successful\n",
      "successful\n",
      "successful\n",
      "successful\n",
      "successful\n",
      "successful\n",
      "successful\n",
      "successful\n",
      "successful\n",
      "successful\n",
      "successful\n",
      "successful\n",
      "successful\n",
      "successful\n",
      "successful\n",
      "successful\n",
      "successful\n",
      "successful\n",
      "successful\n",
      "successful\n",
      "successful\n",
      "successful\n",
      "successful\n",
      "successful\n",
      "successful\n",
      "successful\n",
      "successful\n",
      "successful\n",
      "successful\n",
      "successful\n",
      "successful\n",
      "successful\n",
      "successful\n",
      "successful\n",
      "successful\n",
      "successful\n",
      "successful\n",
      "successful\n",
      "successful\n",
      "successful\n",
      "successful\n",
      "successful\n",
      "successful\n",
      "successful\n",
      "successful\n",
      "successful\n",
      "successful\n",
      "successful\n",
      "successful\n",
      "successful\n",
      "successful\n",
      "successful\n",
      "successful\n",
      "successful\n",
      "successful\n",
      "successful\n",
      "successful\n",
      "successful\n",
      "successful\n",
      "successful\n",
      "successful\n",
      "successful\n",
      "successful\n",
      "successful\n",
      "successful\n",
      "successful\n",
      "successful\n",
      "successful\n",
      "successful\n",
      "successful\n",
      "successful\n",
      "successful\n",
      "successful\n",
      "successful\n",
      "successful\n",
      "successful\n",
      "successful\n",
      "successful\n",
      "successful\n",
      "successful\n",
      "successful\n",
      "successful\n",
      "successful\n",
      "successful\n",
      "successful\n",
      "successful\n",
      "successful\n",
      "successful\n",
      "successful\n",
      "successful\n",
      "successful\n",
      "successful\n",
      "successful\n",
      "successful\n",
      "successful\n",
      "successful\n",
      "successful\n",
      "successful\n",
      "successful\n",
      "successful\n",
      "successful\n",
      "successful\n",
      "successful\n",
      "successful\n",
      "successful\n",
      "successful\n",
      "successful\n",
      "successful\n",
      "successful\n",
      "successful\n",
      "successful\n",
      "successful\n",
      "successful\n",
      "successful\n",
      "successful\n",
      "successful\n",
      "successful\n",
      "successful\n",
      "successful\n",
      "successful\n",
      "successful\n",
      "successful\n",
      "successful\n",
      "successful\n",
      "successful\n",
      "successful\n",
      "successful\n",
      "successful\n",
      "successful\n",
      "successful\n",
      "successful\n",
      "successful\n",
      "successful\n",
      "successful\n",
      "successful\n",
      "successful\n",
      "successful\n",
      "successful\n",
      "successful\n"
     ]
    }
   ],
   "source": [
    "file_path = 'asn.xlsx'\n",
    "sheet_name = \"Sheet1\"\n",
    "column_index = 0\n",
    "\n",
    "\n",
    "df = covnvert_column_to_number(file_path,sheet_name,column_index)"
   ]
  },
  {
   "cell_type": "code",
   "execution_count": 34,
   "metadata": {},
   "outputs": [
    {
     "name": "stdout",
     "output_type": "stream",
     "text": [
      "successful\n",
      "successful\n",
      "successful\n",
      "successful\n",
      "successful\n",
      "successful\n",
      "successful\n",
      "successful\n",
      "successful\n",
      "successful\n",
      "successful\n",
      "successful\n",
      "successful\n",
      "successful\n",
      "successful\n",
      "successful\n",
      "successful\n",
      "successful\n",
      "successful\n",
      "successful\n",
      "successful\n",
      "successful\n",
      "successful\n",
      "successful\n",
      "successful\n",
      "successful\n",
      "successful\n",
      "successful\n",
      "successful\n",
      "successful\n",
      "successful\n",
      "successful\n",
      "successful\n",
      "successful\n",
      "successful\n",
      "successful\n",
      "successful\n",
      "successful\n",
      "successful\n",
      "successful\n",
      "successful\n",
      "successful\n",
      "successful\n",
      "successful\n",
      "successful\n",
      "successful\n",
      "successful\n",
      "successful\n",
      "successful\n",
      "successful\n",
      "successful\n",
      "successful\n",
      "successful\n",
      "successful\n",
      "successful\n",
      "successful\n",
      "successful\n",
      "successful\n",
      "successful\n",
      "successful\n",
      "successful\n",
      "successful\n",
      "successful\n",
      "successful\n",
      "successful\n",
      "successful\n",
      "successful\n",
      "successful\n",
      "successful\n",
      "successful\n",
      "successful\n",
      "successful\n",
      "successful\n",
      "successful\n",
      "successful\n",
      "successful\n",
      "successful\n",
      "successful\n",
      "successful\n",
      "successful\n",
      "successful\n",
      "successful\n",
      "successful\n",
      "successful\n",
      "successful\n",
      "successful\n",
      "successful\n",
      "successful\n",
      "successful\n",
      "successful\n",
      "successful\n",
      "successful\n",
      "successful\n",
      "successful\n",
      "successful\n",
      "successful\n",
      "successful\n",
      "successful\n",
      "successful\n",
      "successful\n",
      "successful\n",
      "successful\n",
      "successful\n",
      "successful\n",
      "successful\n",
      "successful\n",
      "successful\n",
      "successful\n",
      "successful\n",
      "successful\n",
      "successful\n",
      "successful\n",
      "successful\n",
      "successful\n",
      "successful\n",
      "successful\n",
      "successful\n",
      "successful\n",
      "successful\n",
      "successful\n",
      "successful\n",
      "successful\n",
      "successful\n",
      "successful\n",
      "successful\n",
      "successful\n",
      "successful\n",
      "successful\n",
      "successful\n",
      "successful\n",
      "successful\n",
      "successful\n",
      "successful\n",
      "successful\n",
      "successful\n",
      "successful\n",
      "successful\n",
      "successful\n",
      "successful\n",
      "successful\n",
      "successful\n",
      "successful\n",
      "successful\n",
      "successful\n",
      "successful\n",
      "successful\n",
      "successful\n",
      "successful\n",
      "successful\n",
      "successful\n",
      "successful\n",
      "successful\n",
      "successful\n",
      "successful\n",
      "successful\n",
      "successful\n",
      "successful\n",
      "successful\n",
      "successful\n",
      "successful\n",
      "successful\n",
      "successful\n",
      "successful\n",
      "successful\n",
      "successful\n",
      "successful\n",
      "successful\n",
      "successful\n",
      "successful\n",
      "successful\n",
      "successful\n",
      "successful\n",
      "successful\n",
      "successful\n",
      "successful\n",
      "successful\n",
      "successful\n",
      "successful\n",
      "successful\n",
      "successful\n",
      "successful\n",
      "successful\n",
      "successful\n",
      "successful\n",
      "successful\n",
      "successful\n",
      "successful\n",
      "successful\n",
      "successful\n",
      "successful\n",
      "successful\n",
      "successful\n"
     ]
    }
   ],
   "source": [
    "file_path = 'Monitor.xlsx'\n",
    "sheet_name = \"Sheet1\"\n",
    "column_index = 0\n",
    "\n",
    "\n",
    "dff = covnvert_column_to_number(file_path,sheet_name,column_index)"
   ]
  },
  {
   "cell_type": "code",
   "execution_count": null,
   "metadata": {},
   "outputs": [],
   "source": []
  }
 ],
 "metadata": {
  "kernelspec": {
   "display_name": "Python 3 (ipykernel)",
   "language": "python",
   "name": "python3"
  },
  "language_info": {
   "codemirror_mode": {
    "name": "ipython",
    "version": 3
   },
   "file_extension": ".py",
   "mimetype": "text/x-python",
   "name": "python",
   "nbconvert_exporter": "python",
   "pygments_lexer": "ipython3",
   "version": "3.12.0"
  }
 },
 "nbformat": 4,
 "nbformat_minor": 4
}
