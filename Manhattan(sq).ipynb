{
 "cells": [
  {
   "cell_type": "code",
   "execution_count": 112,
   "metadata": {},
   "outputs": [],
   "source": [
    "import time\n",
    "import pytest\n",
    "import selenium\n",
    "from selenium import webdriver\n",
    "from selenium import webdriver\n",
    "from selenium.webdriver.common.by import By\n",
    "from selenium.webdriver.support.wait import WebDriverWait\n",
    "from selenium.webdriver.support import expected_conditions as EC\n",
    "from selenium.webdriver.common.keys import Keys \n",
    "from selenium.webdriver import ActionChains"
   ]
  },
  {
   "cell_type": "markdown",
   "metadata": {},
   "source": [
    "##### Login"
   ]
  },
  {
   "cell_type": "code",
   "execution_count": 113,
   "metadata": {},
   "outputs": [],
   "source": [
    "driver = webdriver.Edge()\n",
    "driver.get('http://square2016-af.bollore-logistics.com:12000/manh/index.html?i=82')\n",
    "driver.implicitly_wait(60)"
   ]
  },
  {
   "cell_type": "code",
   "execution_count": 114,
   "metadata": {},
   "outputs": [],
   "source": [
    "driver.find_element(\"xpath\", \"//input[@id='textfield-1019-inputEl']\").send_keys(\"KPuka\")"
   ]
  },
  {
   "cell_type": "code",
   "execution_count": 115,
   "metadata": {},
   "outputs": [],
   "source": [
    "driver.find_element(\"xpath\",\"//input[@id='textfield-1020-inputEl']\").send_keys(\"Puka123\")"
   ]
  },
  {
   "cell_type": "code",
   "execution_count": 116,
   "metadata": {},
   "outputs": [],
   "source": [
    "driver.find_element(\"xpath\", '//*[@id=\"button-1022-btnWrap\"]').click()"
   ]
  },
  {
   "cell_type": "code",
   "execution_count": 117,
   "metadata": {},
   "outputs": [],
   "source": [
    "# not working but we have to use double click for this element\n",
    "action = ActionChains(driver)\n",
    "action.double_click(driver.find_element(\"xpath\", '//*[@id=\"proceed-button\"]')).perform()"
   ]
  },
  {
   "cell_type": "code",
   "execution_count": 118,
   "metadata": {},
   "outputs": [],
   "source": [
    "action.double_click(driver.find_element(\"xpath\", '//*[@id=\"proceed-button\"]')).perform()\n",
    "#driver.find_element(\"xpath\",'//*[@id=\"mps_regions_selector-1056-btnIconEl\"]').click()"
   ]
  },
  {
   "cell_type": "markdown",
   "metadata": {},
   "source": [
    "#### Home page"
   ]
  },
  {
   "cell_type": "code",
   "execution_count": 119,
   "metadata": {},
   "outputs": [],
   "source": [
    "driver.find_element(\"xpath\",'//*[@id=\"mps_regions_selector-1056-btnIconEl\"]').click()"
   ]
  },
  {
   "cell_type": "code",
   "execution_count": 120,
   "metadata": {},
   "outputs": [],
   "source": [
    "driver.find_element(\"xpath\",'//*[@id=\"combobox-1058-trigger-picker\"]').click()"
   ]
  },
  {
   "cell_type": "code",
   "execution_count": 121,
   "metadata": {},
   "outputs": [],
   "source": [
    "driver.find_element(\"xpath\",'//*[@id=\"boundlist-1059-listEl\"]/li[3]').click()"
   ]
  },
  {
   "cell_type": "code",
   "execution_count": 122,
   "metadata": {},
   "outputs": [],
   "source": [
    "driver.find_element(\"xpath\",'//*[@id=\"combobox-1060-trigger-picker\"]').click()     "
   ]
  },
  {
   "cell_type": "code",
   "execution_count": 123,
   "metadata": {},
   "outputs": [],
   "source": [
    "driver.find_element(\"xpath\",'//*[@id=\"boundlist-1061-listEl\"]/li[15]').click()"
   ]
  },
  {
   "cell_type": "code",
   "execution_count": 124,
   "metadata": {},
   "outputs": [],
   "source": [
    "driver.find_element(\"xpath\",'//*[@id=\"button-1064-btnInnerEl\"]').click()"
   ]
  },
  {
   "cell_type": "markdown",
   "metadata": {},
   "source": [
    "#### Menu "
   ]
  },
  {
   "cell_type": "code",
   "execution_count": 125,
   "metadata": {},
   "outputs": [],
   "source": [
    "driver.find_element(\"xpath\",'//*[@id=\"button-1013-btnIconEl\"]').click()"
   ]
  },
  {
   "cell_type": "code",
   "execution_count": 126,
   "metadata": {},
   "outputs": [],
   "source": [
    "#Show all menu button\n",
    "driver.find_element(\"xpath\",'//*[@id=\"button-1085-btnInnerEl\"]').click()"
   ]
  },
  {
   "cell_type": "code",
   "execution_count": 127,
   "metadata": {},
   "outputs": [],
   "source": [
    "#labour management  \n",
    "driver.find_element(\"xpath\",'//*[@id=\"tab-1109-btnInnerEl\"]').click()"
   ]
  },
  {
   "cell_type": "code",
   "execution_count": 128,
   "metadata": {},
   "outputs": [],
   "source": [
    "driver.find_element(\"xpath\", '//*[@id=\"component-1098\"]/div[6]/div[2]').click()"
   ]
  },
  {
   "cell_type": "markdown",
   "metadata": {},
   "source": [
    "#### ASN input"
   ]
  },
  {
   "cell_type": "code",
   "execution_count": 133,
   "metadata": {},
   "outputs": [],
   "source": [
    "time.sleep(15)\n",
    "driver.find_element(\"xpath\", \"/html/body/div[15]/div[2]/div/div/div[2]/div/div[6]/div[2]/div/div/div[2]/div/div/div[2]/div[2]/div/div/div[1]/div/div/div/div/div/div[1]/div/div/div[2]\").click()"
   ]
  },
  {
   "cell_type": "code",
   "execution_count": 135,
   "metadata": {},
   "outputs": [],
   "source": [
    "driver.find_element(\"xpath\",\"//div[@class='mps-filter-combo-option']\").click()"
   ]
  },
  {
   "cell_type": "code",
   "execution_count": 142,
   "metadata": {},
   "outputs": [],
   "source": [
    "import pandas as pd\n",
    "l = pd.read_csv('file.txt', delimiter = \"\\t\")\n",
    "pem1 = []\n",
    "for i in l:\n",
    "    pem1.append(i)"
   ]
  },
  {
   "cell_type": "code",
   "execution_count": 145,
   "metadata": {},
   "outputs": [
    {
     "name": "stdout",
     "output_type": "stream",
     "text": [
      "Receiving Verified\n",
      "Receiving Verified\n",
      "Receiving Verified\n",
      "Receiving Verified\n",
      "Receiving Verified\n",
      "Receiving Verified\n",
      "Receiving Verified\n",
      "Receiving Verified\n",
      "Receiving Verified\n",
      "Receiving Verified\n",
      "Receiving Verified\n",
      "Receiving Verified\n",
      "Receiving Verified\n",
      "Receiving Verified\n"
     ]
    }
   ],
   "source": [
    "l = ['24R47806', '0240600449', '0240600362', '24R12032', '24R2726', '0240600849', '0240600848', '0240600505', '24R5630', '0240600341', '0240600165', '0240600687', '0240600506', '0240601133']\n",
    "for asn in l:\n",
    "    text_input = driver.find_element(\"xpath\",'/html/body/div[14]/div[2]/div/div/div[2]/div/div[6]/div[2]/div/div/div[2]/div/div/div[2]/div[2]/div/div/div[1]/div/div/div/div/div/div[3]/div/div/div/div/div/div/div/div[1]/input')\n",
    "\n",
    "    text_input.clear()\n",
    "\n",
    "    text_input.send_keys(asn)\n",
    "\n",
    "    driver.find_element(\"xpath\",'/html/body/div[14]/div[2]/div/div/div[2]/div/div[6]/div[3]/div[2]/div/a[2]/span/span/span[2]').click() \n",
    "\n",
    "    print(driver.find_element(\"xpath\",\"//td[@class='x-grid-cell x-grid-td x-grid-cell-status x-grid-cell-last']\").text)"
   ]
  },
  {
   "cell_type": "code",
   "execution_count": null,
   "metadata": {},
   "outputs": [],
   "source": []
  }
 ],
 "metadata": {
  "kernelspec": {
   "display_name": "Python 3",
   "language": "python",
   "name": "python3"
  },
  "language_info": {
   "codemirror_mode": {
    "name": "ipython",
    "version": 3
   },
   "file_extension": ".py",
   "mimetype": "text/x-python",
   "name": "python",
   "nbconvert_exporter": "python",
   "pygments_lexer": "ipython3",
   "version": "3.12.0"
  }
 },
 "nbformat": 4,
 "nbformat_minor": 2
}
