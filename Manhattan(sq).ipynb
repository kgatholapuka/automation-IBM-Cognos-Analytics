{
 "cells": [
  {
   "cell_type": "code",
   "execution_count": 2,
   "metadata": {},
   "outputs": [],
   "source": [
    "import time\n",
    "import pytest\n",
    "import selenium\n",
    "from selenium import webdriver\n",
    "from selenium import webdriver\n",
    "from selenium.webdriver.common.by import By\n",
    "from selenium.webdriver.support.wait import WebDriverWait\n",
    "from selenium.webdriver.support import expected_conditions as EC\n",
    "from selenium.webdriver.common.keys import Keys \n",
    "from selenium.webdriver import ActionChains"
   ]
  },
  {
   "cell_type": "markdown",
   "metadata": {},
   "source": [
    "##### Login"
   ]
  },
  {
   "cell_type": "code",
   "execution_count": 89,
   "metadata": {},
   "outputs": [],
   "source": [
    "driver = webdriver.Edge()\n",
    "driver.get('http://square2016-af.bollore-logistics.com:12000/manh/index.html?i=82')\n",
    "driver.implicitly_wait(60)"
   ]
  },
  {
   "cell_type": "code",
   "execution_count": 90,
   "metadata": {},
   "outputs": [],
   "source": [
    "driver.find_element(\"xpath\", \"//input[@id='textfield-1019-inputEl']\").send_keys(\"KPuka\")"
   ]
  },
  {
   "cell_type": "code",
   "execution_count": 91,
   "metadata": {},
   "outputs": [],
   "source": [
    "driver.find_element(\"xpath\",\"//input[@id='textfield-1020-inputEl']\").send_keys(\"Puka123\")"
   ]
  },
  {
   "cell_type": "code",
   "execution_count": 92,
   "metadata": {},
   "outputs": [],
   "source": [
    "driver.find_element(\"xpath\", '//*[@id=\"button-1022-btnWrap\"]').click()"
   ]
  },
  {
   "cell_type": "code",
   "execution_count": 93,
   "metadata": {},
   "outputs": [],
   "source": [
    "# not working but we have to use double click for this element\n",
    "action = ActionChains(driver)\n",
    "action.double_click(driver.find_element(\"xpath\", '//*[@id=\"proceed-button\"]')).perform()"
   ]
  },
  {
   "cell_type": "code",
   "execution_count": 94,
   "metadata": {},
   "outputs": [],
   "source": [
    "action = ActionChains(driver)\n",
    "action.double_click(driver.find_element(\"xpath\", '//*[@id=\"proceed-button\"]')).perform()"
   ]
  },
  {
   "cell_type": "markdown",
   "metadata": {},
   "source": [
    "#### Home page"
   ]
  },
  {
   "cell_type": "code",
   "execution_count": 95,
   "metadata": {},
   "outputs": [],
   "source": [
    "driver.find_element(\"xpath\",'//*[@id=\"mps_regions_selector-1056-btnIconEl\"]').click()"
   ]
  },
  {
   "cell_type": "code",
   "execution_count": 96,
   "metadata": {},
   "outputs": [],
   "source": [
    "driver.find_element(\"xpath\",'//*[@id=\"combobox-1058-trigger-picker\"]').click()"
   ]
  },
  {
   "cell_type": "code",
   "execution_count": 97,
   "metadata": {},
   "outputs": [],
   "source": [
    "driver.find_element(\"xpath\",'//*[@id=\"boundlist-1059-listEl\"]/li[3]').click()"
   ]
  },
  {
   "cell_type": "code",
   "execution_count": 98,
   "metadata": {},
   "outputs": [],
   "source": [
    "driver.find_element(\"xpath\",'//*[@id=\"combobox-1060-trigger-picker\"]').click()     "
   ]
  },
  {
   "cell_type": "code",
   "execution_count": 99,
   "metadata": {},
   "outputs": [],
   "source": [
    "driver.find_element(\"xpath\",'//*[@id=\"boundlist-1061-listEl\"]/li[15]').click()"
   ]
  },
  {
   "cell_type": "code",
   "execution_count": 100,
   "metadata": {},
   "outputs": [],
   "source": [
    "driver.find_element(\"xpath\",'//*[@id=\"button-1064-btnInnerEl\"]').click()"
   ]
  },
  {
   "cell_type": "markdown",
   "metadata": {},
   "source": [
    "#### Menu "
   ]
  },
  {
   "cell_type": "code",
   "execution_count": 101,
   "metadata": {},
   "outputs": [],
   "source": [
    "driver.find_element(\"xpath\",'//*[@id=\"button-1013-btnIconEl\"]').click()"
   ]
  },
  {
   "cell_type": "code",
   "execution_count": 102,
   "metadata": {},
   "outputs": [],
   "source": [
    "#Show all menu button\n",
    "driver.find_element(\"xpath\",'//*[@id=\"button-1085-btnInnerEl\"]').click()"
   ]
  },
  {
   "cell_type": "code",
   "execution_count": 103,
   "metadata": {},
   "outputs": [],
   "source": [
    "#labour management  \n",
    "driver.find_element(\"xpath\",'//*[@id=\"tab-1109-btnInnerEl\"]').click()"
   ]
  },
  {
   "cell_type": "code",
   "execution_count": 104,
   "metadata": {},
   "outputs": [],
   "source": [
    "driver.find_element(\"xpath\", '//*[@id=\"component-1098\"]/div[6]/div[2]').click()"
   ]
  },
  {
   "cell_type": "markdown",
   "metadata": {},
   "source": [
    "#### ASN input"
   ]
  },
  {
   "cell_type": "code",
   "execution_count": null,
   "metadata": {},
   "outputs": [],
   "source": [
    "#driver.find_element(\"xpath\",'//*[@id=\"combobox-1501-trigger-picker\"]').click()"
   ]
  },
  {
   "cell_type": "code",
   "execution_count": null,
   "metadata": {},
   "outputs": [],
   "source": [
    "#driver.find_element(\"xpath\",'//*[@id=\"boundlist-1502-listEl\"]').click()"
   ]
  },
  {
   "cell_type": "code",
   "execution_count": null,
   "metadata": {},
   "outputs": [],
   "source": [
    "#driver.find_element(\"xpath\",'//*[@id=\"combobox-1503-inputEl\"]').send_keys(\"ASN\")"
   ]
  },
  {
   "cell_type": "code",
   "execution_count": null,
   "metadata": {},
   "outputs": [
    {
     "ename": "ElementNotInteractableException",
     "evalue": "Message: element not interactable\n  (Session info: MicrosoftEdge=122.0.2365.80)\nStacktrace:\n\tGetHandleVerifier [0x00007FF7FC4FB7F2+63538]\n\tMicrosoft::Applications::Events::ILogConfiguration::operator* [0x00007FF7FC47F672+238306]\n\t(No symbol) [0x00007FF7FC2B32C1]\n\t(No symbol) [0x00007FF7FC2F3E62]\n\t(No symbol) [0x00007FF7FC2F29D8]\n\t(No symbol) [0x00007FF7FC318E1A]\n\t(No symbol) [0x00007FF7FC2EF037]\n\t(No symbol) [0x00007FF7FC2EEEFD]\n\t(No symbol) [0x00007FF7FC319100]\n\t(No symbol) [0x00007FF7FC2EF037]\n\t(No symbol) [0x00007FF7FC331F49]\n\t(No symbol) [0x00007FF7FC318A83]\n\t(No symbol) [0x00007FF7FC2EE55E]\n\t(No symbol) [0x00007FF7FC2ED71C]\n\t(No symbol) [0x00007FF7FC2EE111]\n\tMicrosoft::Applications::Events::EventProperty::to_string [0x00007FF7FC6D1CDC+1102764]\n\t(No symbol) [0x00007FF7FC3625F6]\n\t(No symbol) [0x00007FF7FC3F3DAC]\n\t(No symbol) [0x00007FF7FC3EBDA8]\n\tMicrosoft::Applications::Events::EventProperty::to_string [0x00007FF7FC6D0C25+1098485]\n\tMicrosoft::Applications::Events::ILogConfiguration::operator* [0x00007FF7FC489E31+281249]\n\tMicrosoft::Applications::Events::ILogConfiguration::operator* [0x00007FF7FC4845B4+258596]\n\tMicrosoft::Applications::Events::ILogConfiguration::operator* [0x00007FF7FC4846EF+258911]\n\tMicrosoft::Applications::Events::ILogConfiguration::operator* [0x00007FF7FC478EC1+211761]\n\tBaseThreadInitThunk [0x00007FFA8A417344+20]\n\tRtlUserThreadStart [0x00007FFA8B9826B1+33]\n",
     "output_type": "error",
     "traceback": [
      "\u001b[1;31m---------------------------------------------------------------------------\u001b[0m",
      "\u001b[1;31mElementNotInteractableException\u001b[0m           Traceback (most recent call last)",
      "Cell \u001b[1;32mIn[56], line 1\u001b[0m\n\u001b[1;32m----> 1\u001b[0m \u001b[43mdriver\u001b[49m\u001b[38;5;241;43m.\u001b[39;49m\u001b[43mfind_element\u001b[49m\u001b[43m(\u001b[49m\u001b[38;5;124;43m\"\u001b[39;49m\u001b[38;5;124;43mxpath\u001b[39;49m\u001b[38;5;124;43m\"\u001b[39;49m\u001b[43m,\u001b[49m\u001b[38;5;124;43m\"\u001b[39;49m\u001b[38;5;124;43m//input[@type=\u001b[39;49m\u001b[38;5;124;43m'\u001b[39;49m\u001b[38;5;124;43mtext\u001b[39;49m\u001b[38;5;124;43m'\u001b[39;49m\u001b[38;5;124;43m]\u001b[39;49m\u001b[38;5;124;43m\"\u001b[39;49m\u001b[43m)\u001b[49m\u001b[38;5;241;43m.\u001b[39;49m\u001b[43msend_keys\u001b[49m\u001b[43m(\u001b[49m\u001b[38;5;124;43m\"\u001b[39;49m\u001b[38;5;124;43mASN\u001b[39;49m\u001b[38;5;124;43m\"\u001b[39;49m\u001b[43m)\u001b[49m\n",
      "File \u001b[1;32mc:\\Users\\ukt430\\AppData\\Local\\Programs\\Python\\Python312\\Lib\\site-packages\\selenium\\webdriver\\remote\\webelement.py:231\u001b[0m, in \u001b[0;36mWebElement.send_keys\u001b[1;34m(self, *value)\u001b[0m\n\u001b[0;32m    228\u001b[0m             remote_files\u001b[38;5;241m.\u001b[39mappend(\u001b[38;5;28mself\u001b[39m\u001b[38;5;241m.\u001b[39m_upload(file))\n\u001b[0;32m    229\u001b[0m         value \u001b[38;5;241m=\u001b[39m \u001b[38;5;124m\"\u001b[39m\u001b[38;5;130;01m\\n\u001b[39;00m\u001b[38;5;124m\"\u001b[39m\u001b[38;5;241m.\u001b[39mjoin(remote_files)\n\u001b[1;32m--> 231\u001b[0m \u001b[38;5;28;43mself\u001b[39;49m\u001b[38;5;241;43m.\u001b[39;49m\u001b[43m_execute\u001b[49m\u001b[43m(\u001b[49m\n\u001b[0;32m    232\u001b[0m \u001b[43m    \u001b[49m\u001b[43mCommand\u001b[49m\u001b[38;5;241;43m.\u001b[39;49m\u001b[43mSEND_KEYS_TO_ELEMENT\u001b[49m\u001b[43m,\u001b[49m\u001b[43m \u001b[49m\u001b[43m{\u001b[49m\u001b[38;5;124;43m\"\u001b[39;49m\u001b[38;5;124;43mtext\u001b[39;49m\u001b[38;5;124;43m\"\u001b[39;49m\u001b[43m:\u001b[49m\u001b[43m \u001b[49m\u001b[38;5;124;43m\"\u001b[39;49m\u001b[38;5;124;43m\"\u001b[39;49m\u001b[38;5;241;43m.\u001b[39;49m\u001b[43mjoin\u001b[49m\u001b[43m(\u001b[49m\u001b[43mkeys_to_typing\u001b[49m\u001b[43m(\u001b[49m\u001b[43mvalue\u001b[49m\u001b[43m)\u001b[49m\u001b[43m)\u001b[49m\u001b[43m,\u001b[49m\u001b[43m \u001b[49m\u001b[38;5;124;43m\"\u001b[39;49m\u001b[38;5;124;43mvalue\u001b[39;49m\u001b[38;5;124;43m\"\u001b[39;49m\u001b[43m:\u001b[49m\u001b[43m \u001b[49m\u001b[43mkeys_to_typing\u001b[49m\u001b[43m(\u001b[49m\u001b[43mvalue\u001b[49m\u001b[43m)\u001b[49m\u001b[43m}\u001b[49m\n\u001b[0;32m    233\u001b[0m \u001b[43m\u001b[49m\u001b[43m)\u001b[49m\n",
      "File \u001b[1;32mc:\\Users\\ukt430\\AppData\\Local\\Programs\\Python\\Python312\\Lib\\site-packages\\selenium\\webdriver\\remote\\webelement.py:395\u001b[0m, in \u001b[0;36mWebElement._execute\u001b[1;34m(self, command, params)\u001b[0m\n\u001b[0;32m    393\u001b[0m     params \u001b[38;5;241m=\u001b[39m {}\n\u001b[0;32m    394\u001b[0m params[\u001b[38;5;124m\"\u001b[39m\u001b[38;5;124mid\u001b[39m\u001b[38;5;124m\"\u001b[39m] \u001b[38;5;241m=\u001b[39m \u001b[38;5;28mself\u001b[39m\u001b[38;5;241m.\u001b[39m_id\n\u001b[1;32m--> 395\u001b[0m \u001b[38;5;28;01mreturn\u001b[39;00m \u001b[38;5;28;43mself\u001b[39;49m\u001b[38;5;241;43m.\u001b[39;49m\u001b[43m_parent\u001b[49m\u001b[38;5;241;43m.\u001b[39;49m\u001b[43mexecute\u001b[49m\u001b[43m(\u001b[49m\u001b[43mcommand\u001b[49m\u001b[43m,\u001b[49m\u001b[43m \u001b[49m\u001b[43mparams\u001b[49m\u001b[43m)\u001b[49m\n",
      "File \u001b[1;32mc:\\Users\\ukt430\\AppData\\Local\\Programs\\Python\\Python312\\Lib\\site-packages\\selenium\\webdriver\\remote\\webdriver.py:348\u001b[0m, in \u001b[0;36mWebDriver.execute\u001b[1;34m(self, driver_command, params)\u001b[0m\n\u001b[0;32m    346\u001b[0m response \u001b[38;5;241m=\u001b[39m \u001b[38;5;28mself\u001b[39m\u001b[38;5;241m.\u001b[39mcommand_executor\u001b[38;5;241m.\u001b[39mexecute(driver_command, params)\n\u001b[0;32m    347\u001b[0m \u001b[38;5;28;01mif\u001b[39;00m response:\n\u001b[1;32m--> 348\u001b[0m     \u001b[38;5;28;43mself\u001b[39;49m\u001b[38;5;241;43m.\u001b[39;49m\u001b[43merror_handler\u001b[49m\u001b[38;5;241;43m.\u001b[39;49m\u001b[43mcheck_response\u001b[49m\u001b[43m(\u001b[49m\u001b[43mresponse\u001b[49m\u001b[43m)\u001b[49m\n\u001b[0;32m    349\u001b[0m     response[\u001b[38;5;124m\"\u001b[39m\u001b[38;5;124mvalue\u001b[39m\u001b[38;5;124m\"\u001b[39m] \u001b[38;5;241m=\u001b[39m \u001b[38;5;28mself\u001b[39m\u001b[38;5;241m.\u001b[39m_unwrap_value(response\u001b[38;5;241m.\u001b[39mget(\u001b[38;5;124m\"\u001b[39m\u001b[38;5;124mvalue\u001b[39m\u001b[38;5;124m\"\u001b[39m, \u001b[38;5;28;01mNone\u001b[39;00m))\n\u001b[0;32m    350\u001b[0m     \u001b[38;5;28;01mreturn\u001b[39;00m response\n",
      "File \u001b[1;32mc:\\Users\\ukt430\\AppData\\Local\\Programs\\Python\\Python312\\Lib\\site-packages\\selenium\\webdriver\\remote\\errorhandler.py:229\u001b[0m, in \u001b[0;36mErrorHandler.check_response\u001b[1;34m(self, response)\u001b[0m\n\u001b[0;32m    227\u001b[0m         alert_text \u001b[38;5;241m=\u001b[39m value[\u001b[38;5;124m\"\u001b[39m\u001b[38;5;124malert\u001b[39m\u001b[38;5;124m\"\u001b[39m]\u001b[38;5;241m.\u001b[39mget(\u001b[38;5;124m\"\u001b[39m\u001b[38;5;124mtext\u001b[39m\u001b[38;5;124m\"\u001b[39m)\n\u001b[0;32m    228\u001b[0m     \u001b[38;5;28;01mraise\u001b[39;00m exception_class(message, screen, stacktrace, alert_text)  \u001b[38;5;66;03m# type: ignore[call-arg]  # mypy is not smart enough here\u001b[39;00m\n\u001b[1;32m--> 229\u001b[0m \u001b[38;5;28;01mraise\u001b[39;00m exception_class(message, screen, stacktrace)\n",
      "\u001b[1;31mElementNotInteractableException\u001b[0m: Message: element not interactable\n  (Session info: MicrosoftEdge=122.0.2365.80)\nStacktrace:\n\tGetHandleVerifier [0x00007FF7FC4FB7F2+63538]\n\tMicrosoft::Applications::Events::ILogConfiguration::operator* [0x00007FF7FC47F672+238306]\n\t(No symbol) [0x00007FF7FC2B32C1]\n\t(No symbol) [0x00007FF7FC2F3E62]\n\t(No symbol) [0x00007FF7FC2F29D8]\n\t(No symbol) [0x00007FF7FC318E1A]\n\t(No symbol) [0x00007FF7FC2EF037]\n\t(No symbol) [0x00007FF7FC2EEEFD]\n\t(No symbol) [0x00007FF7FC319100]\n\t(No symbol) [0x00007FF7FC2EF037]\n\t(No symbol) [0x00007FF7FC331F49]\n\t(No symbol) [0x00007FF7FC318A83]\n\t(No symbol) [0x00007FF7FC2EE55E]\n\t(No symbol) [0x00007FF7FC2ED71C]\n\t(No symbol) [0x00007FF7FC2EE111]\n\tMicrosoft::Applications::Events::EventProperty::to_string [0x00007FF7FC6D1CDC+1102764]\n\t(No symbol) [0x00007FF7FC3625F6]\n\t(No symbol) [0x00007FF7FC3F3DAC]\n\t(No symbol) [0x00007FF7FC3EBDA8]\n\tMicrosoft::Applications::Events::EventProperty::to_string [0x00007FF7FC6D0C25+1098485]\n\tMicrosoft::Applications::Events::ILogConfiguration::operator* [0x00007FF7FC489E31+281249]\n\tMicrosoft::Applications::Events::ILogConfiguration::operator* [0x00007FF7FC4845B4+258596]\n\tMicrosoft::Applications::Events::ILogConfiguration::operator* [0x00007FF7FC4846EF+258911]\n\tMicrosoft::Applications::Events::ILogConfiguration::operator* [0x00007FF7FC478EC1+211761]\n\tBaseThreadInitThunk [0x00007FFA8A417344+20]\n\tRtlUserThreadStart [0x00007FFA8B9826B1+33]\n"
     ]
    }
   ],
   "source": [
    "#driver.find_element(\"xpath\",\"//input[@type='text']\").send_keys(\"ASN\")"
   ]
  },
  {
   "cell_type": "code",
   "execution_count": 105,
   "metadata": {},
   "outputs": [],
   "source": [
    "driver.find_element(\"xpath\",'//*[@id=\"combobox-1501-trigger-picker\"]').click()"
   ]
  },
  {
   "cell_type": "code",
   "execution_count": 82,
   "metadata": {},
   "outputs": [],
   "source": [
    "#using the ab\n",
    "\n",
    "driver.find_element(\"xpath\", \"/html/body/div[14]/div[2]/div/div/div[2]/div/div[6]/div[2]/div/div/div[2]/div/div/div[2]/div[2]/div/div/div[1]/div/div/div/div/div/div[1]/div/div/div[2]\").click()"
   ]
  },
  {
   "cell_type": "code",
   "execution_count": null,
   "metadata": {},
   "outputs": [],
   "source": [
    "#driver.find_element(\"xpath\",'//*[@id=\"combobox-1503-trigger-picker\"]').click() "
   ]
  },
  {
   "cell_type": "code",
   "execution_count": 106,
   "metadata": {},
   "outputs": [],
   "source": [
    "driver.find_element(\"xpath\",\"//div[@class='mps-filter-combo-option']\").click()"
   ]
  },
  {
   "cell_type": "code",
   "execution_count": 141,
   "metadata": {},
   "outputs": [],
   "source": [
    "#dropdown button\n",
    "#driver.find_element(\"xpath\",\"//div[@id='combobox-1503-trigger-picker']\").click()"
   ]
  },
  {
   "cell_type": "code",
   "execution_count": null,
   "metadata": {},
   "outputs": [],
   "source": [
    "driver.find_element(\"xpath\",\"//span[@id='button-1461-btnInnerEl']\").click()"
   ]
  },
  {
   "cell_type": "code",
   "execution_count": null,
   "metadata": {},
   "outputs": [],
   "source": [
    "# get the status of the ASN\n",
    "print(driver.find_element(\"xpath\",'//*[@id=\"gridview-1260-record-3162\"]/tbody/tr/td[10]/div').text)"
   ]
  },
  {
   "cell_type": "code",
   "execution_count": 84,
   "metadata": {},
   "outputs": [
    {
     "name": "stdout",
     "output_type": "stream",
     "text": [
      "Empty DataFrame\n",
      "Columns: [['0240600341', '24R2726', '0240600449', '0240600505', '0240601133', '0240600165', '0240600848', '0240600687', '0240600849', '0240600506', '0240600362', '24R5630', '24R12032', '24R47806']]\n",
      "Index: []\n"
     ]
    }
   ],
   "source": [
    "import pandas as pd\n",
    "l = pd.read_csv('file.txt', delimiter = \"\\t\")\n",
    "print(l)"
   ]
  },
  {
   "cell_type": "code",
   "execution_count": 107,
   "metadata": {},
   "outputs": [
    {
     "name": "stdout",
     "output_type": "stream",
     "text": [
      "Receiving Verified\n",
      "Receiving Verified\n",
      "Receiving Verified\n",
      "Receiving Verified\n",
      "Receiving Verified\n",
      "Receiving Verified\n",
      "Receiving Verified\n",
      "Receiving Verified\n",
      "Receiving Verified\n",
      "Receiving Verified\n",
      "Receiving Verified\n",
      "Receiving Verified\n",
      "Receiving Verified\n",
      "Receiving Verified\n"
     ]
    }
   ],
   "source": [
    "l = ['24R47806', '0240600449', '0240600362', '24R12032', '24R2726', '0240600849', '0240600848', '0240600505', '24R5630', '0240600341', '0240600165', '0240600687', '0240600506', '0240601133']\n",
    "for asn in l:\n",
    "    text_input = driver.find_element(\"xpath\",'//*[@id=\"mpslookupfield-1543-inputEl\"]')\n",
    "\n",
    "    text_input.clear()\n",
    "\n",
    "    text_input.send_keys(asn)\n",
    "\n",
    "    driver.find_element(\"xpath\",\"//span[@id='button-1461-btnInnerEl']\").click()\n",
    "\n",
    "    print(driver.find_element(\"xpath\",\"//td[@class='x-grid-cell x-grid-td x-grid-cell-status x-grid-cell-last']\").text)"
   ]
  },
  {
   "cell_type": "code",
   "execution_count": 87,
   "metadata": {},
   "outputs": [],
   "source": [
    "driver.find_element(\"xpath\",\"//span[@id='button-1461-btnInnerEl']\").click()"
   ]
  },
  {
   "cell_type": "code",
   "execution_count": null,
   "metadata": {},
   "outputs": [],
   "source": []
  }
 ],
 "metadata": {
  "kernelspec": {
   "display_name": "Python 3",
   "language": "python",
   "name": "python3"
  },
  "language_info": {
   "codemirror_mode": {
    "name": "ipython",
    "version": 3
   },
   "file_extension": ".py",
   "mimetype": "text/x-python",
   "name": "python",
   "nbconvert_exporter": "python",
   "pygments_lexer": "ipython3",
   "version": "3.12.0"
  }
 },
 "nbformat": 4,
 "nbformat_minor": 2
}
